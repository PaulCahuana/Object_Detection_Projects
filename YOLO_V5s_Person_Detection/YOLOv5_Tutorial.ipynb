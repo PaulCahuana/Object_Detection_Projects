{
 "cells": [
  {
   "cell_type": "markdown",
   "metadata": {
    "id": "t6MPjfT5NrKQ"
   },
   "source": [
    "<a align=\"left\" href=\"https://ultralytics.com/yolov5\" target=\"_blank\">\n",
    "<img src=\"https://user-images.githubusercontent.com/26833433/125273437-35b3fc00-e30d-11eb-9079-46f313325424.png\"></a>\n",
    "\n",
    "This is the **official YOLOv5 🚀 notebook** authored by **Ultralytics**, and is freely available for redistribution under the [GPL-3.0 license](https://choosealicense.com/licenses/gpl-3.0/). \n",
    "For more information please visit https://github.com/ultralytics/yolov5 and https://ultralytics.com. Thank you!"
   ]
  },
  {
   "cell_type": "markdown",
   "metadata": {
    "id": "7mGmQbAO5pQb"
   },
   "source": [
    "# Setup\n",
    "\n",
    "Clone repo, install dependencies and check PyTorch and GPU."
   ]
  },
  {
   "cell_type": "code",
   "execution_count": 3,
   "metadata": {
    "colab": {
     "base_uri": "https://localhost:8080/"
    },
    "id": "wbvMlHd_QwMG",
    "outputId": "0cabe440-e06c-48b9-9180-4b4ea1790ff5"
   },
   "outputs": [
    {
     "name": "stdout",
     "output_type": "stream",
     "text": [
      "Setup complete. Using torch 1.8.1 (GeForce GTX 1660 SUPER)\n"
     ]
    }
   ],
   "source": [
    "#!git clone https://github.com/ultralytics/yolov5  # clone repo\n",
    "%cd yolov5\n",
    "%pip install -qr requirements.txt  # install dependencies\n",
    "\n",
    "import torch\n",
    "from IPython.display import Image, clear_output  # to display images\n",
    "\n",
    "clear_output()\n",
    "print(f\"Setup complete. Using torch {torch.__version__} ({torch.cuda.get_device_properties(0).name if torch.cuda.is_available() else 'CPU'})\")"
   ]
  },
  {
   "cell_type": "markdown",
   "metadata": {
    "id": "4JnkELT0cIJg"
   },
   "source": [
    "# 1. Inference\n",
    "\n",
    "`detect.py` runs YOLOv5 inference on a variety of sources, downloading models automatically from the [latest YOLOv5 release](https://github.com/ultralytics/yolov5/releases), and saving results to `runs/detect`. Example inference sources are:\n",
    "\n",
    "<img src=\"https://user-images.githubusercontent.com/26833433/114307955-5c7e4e80-9ae2-11eb-9f50-a90e39bee53f.png\" width=\"900\"> "
   ]
  },
  {
   "cell_type": "code",
   "execution_count": 6,
   "metadata": {},
   "outputs": [],
   "source": [
    "import time"
   ]
  },
  {
   "cell_type": "code",
   "execution_count": 12,
   "metadata": {
    "colab": {
     "base_uri": "https://localhost:8080/",
     "height": 534
    },
    "id": "zR9ZbuQCH7FX",
    "outputId": "c9a308f7-2216-4805-8003-eca8dd0dc30d"
   },
   "outputs": [
    {
     "name": "stdout",
     "output_type": "stream",
     "text": [
      "\u001b[34m\u001b[1mdetect: \u001b[0mweights=['runs/train/exp/weights/last.pt'], source=../videos/v11.mp4, imgsz=640, conf_thres=0.35, iou_thres=0.45, max_det=1000, device=, view_img=False, save_txt=False, save_conf=False, save_crop=False, nosave=False, classes=None, agnostic_nms=False, augment=False, visualize=False, update=False, project=runs/detect, name=exp, exist_ok=False, line_thickness=3, hide_labels=False, hide_conf=False, half=False\n",
      "YOLOv5 🚀 v5.0-290-g62409ee torch 1.8.1 CUDA:0 (GeForce GTX 1660 SUPER, 5941.5MB)\n",
      "\n",
      "Fusing layers... \n",
      "Model Summary: 224 layers, 7053910 parameters, 0 gradients, 16.3 GFLOPs\n",
      "video 1/1 (1/325) /media/paul/disco5/ANACONDA/LYTICA/YOLOV5S_PERSON_DETECTION/yolov5/../videos/v11.mp4: 480x640 4 persons, Done. (0.009s)\n",
      "video 1/1 (2/325) /media/paul/disco5/ANACONDA/LYTICA/YOLOV5S_PERSON_DETECTION/yolov5/../videos/v11.mp4: 480x640 4 persons, Done. (0.009s)\n",
      "video 1/1 (3/325) /media/paul/disco5/ANACONDA/LYTICA/YOLOV5S_PERSON_DETECTION/yolov5/../videos/v11.mp4: 480x640 5 persons, Done. (0.008s)\n",
      "video 1/1 (4/325) /media/paul/disco5/ANACONDA/LYTICA/YOLOV5S_PERSON_DETECTION/yolov5/../videos/v11.mp4: 480x640 5 persons, Done. (0.008s)\n",
      "video 1/1 (5/325) /media/paul/disco5/ANACONDA/LYTICA/YOLOV5S_PERSON_DETECTION/yolov5/../videos/v11.mp4: 480x640 4 persons, Done. (0.009s)\n",
      "video 1/1 (6/325) /media/paul/disco5/ANACONDA/LYTICA/YOLOV5S_PERSON_DETECTION/yolov5/../videos/v11.mp4: 480x640 4 persons, Done. (0.009s)\n",
      "video 1/1 (7/325) /media/paul/disco5/ANACONDA/LYTICA/YOLOV5S_PERSON_DETECTION/yolov5/../videos/v11.mp4: 480x640 4 persons, Done. (0.009s)\n",
      "video 1/1 (8/325) /media/paul/disco5/ANACONDA/LYTICA/YOLOV5S_PERSON_DETECTION/yolov5/../videos/v11.mp4: 480x640 4 persons, Done. (0.008s)\n",
      "video 1/1 (9/325) /media/paul/disco5/ANACONDA/LYTICA/YOLOV5S_PERSON_DETECTION/yolov5/../videos/v11.mp4: 480x640 4 persons, Done. (0.008s)\n",
      "video 1/1 (10/325) /media/paul/disco5/ANACONDA/LYTICA/YOLOV5S_PERSON_DETECTION/yolov5/../videos/v11.mp4: 480x640 4 persons, Done. (0.007s)\n",
      "video 1/1 (11/325) /media/paul/disco5/ANACONDA/LYTICA/YOLOV5S_PERSON_DETECTION/yolov5/../videos/v11.mp4: 480x640 4 persons, Done. (0.007s)\n",
      "video 1/1 (12/325) /media/paul/disco5/ANACONDA/LYTICA/YOLOV5S_PERSON_DETECTION/yolov5/../videos/v11.mp4: 480x640 4 persons, Done. (0.008s)\n",
      "video 1/1 (13/325) /media/paul/disco5/ANACONDA/LYTICA/YOLOV5S_PERSON_DETECTION/yolov5/../videos/v11.mp4: 480x640 4 persons, Done. (0.008s)\n",
      "video 1/1 (14/325) /media/paul/disco5/ANACONDA/LYTICA/YOLOV5S_PERSON_DETECTION/yolov5/../videos/v11.mp4: 480x640 5 persons, Done. (0.007s)\n",
      "video 1/1 (15/325) /media/paul/disco5/ANACONDA/LYTICA/YOLOV5S_PERSON_DETECTION/yolov5/../videos/v11.mp4: 480x640 5 persons, Done. (0.008s)\n",
      "video 1/1 (16/325) /media/paul/disco5/ANACONDA/LYTICA/YOLOV5S_PERSON_DETECTION/yolov5/../videos/v11.mp4: 480x640 4 persons, Done. (0.008s)\n",
      "video 1/1 (17/325) /media/paul/disco5/ANACONDA/LYTICA/YOLOV5S_PERSON_DETECTION/yolov5/../videos/v11.mp4: 480x640 4 persons, Done. (0.009s)\n",
      "video 1/1 (18/325) /media/paul/disco5/ANACONDA/LYTICA/YOLOV5S_PERSON_DETECTION/yolov5/../videos/v11.mp4: 480x640 4 persons, Done. (0.008s)\n",
      "video 1/1 (19/325) /media/paul/disco5/ANACONDA/LYTICA/YOLOV5S_PERSON_DETECTION/yolov5/../videos/v11.mp4: 480x640 4 persons, Done. (0.007s)\n",
      "video 1/1 (20/325) /media/paul/disco5/ANACONDA/LYTICA/YOLOV5S_PERSON_DETECTION/yolov5/../videos/v11.mp4: 480x640 5 persons, Done. (0.008s)\n",
      "video 1/1 (21/325) /media/paul/disco5/ANACONDA/LYTICA/YOLOV5S_PERSON_DETECTION/yolov5/../videos/v11.mp4: 480x640 5 persons, Done. (0.008s)\n",
      "video 1/1 (22/325) /media/paul/disco5/ANACONDA/LYTICA/YOLOV5S_PERSON_DETECTION/yolov5/../videos/v11.mp4: 480x640 4 persons, Done. (0.007s)\n",
      "video 1/1 (23/325) /media/paul/disco5/ANACONDA/LYTICA/YOLOV5S_PERSON_DETECTION/yolov5/../videos/v11.mp4: 480x640 4 persons, Done. (0.008s)\n",
      "video 1/1 (24/325) /media/paul/disco5/ANACONDA/LYTICA/YOLOV5S_PERSON_DETECTION/yolov5/../videos/v11.mp4: 480x640 4 persons, Done. (0.009s)\n",
      "video 1/1 (25/325) /media/paul/disco5/ANACONDA/LYTICA/YOLOV5S_PERSON_DETECTION/yolov5/../videos/v11.mp4: 480x640 3 persons, Done. (0.008s)\n",
      "video 1/1 (26/325) /media/paul/disco5/ANACONDA/LYTICA/YOLOV5S_PERSON_DETECTION/yolov5/../videos/v11.mp4: 480x640 3 persons, Done. (0.007s)\n",
      "video 1/1 (27/325) /media/paul/disco5/ANACONDA/LYTICA/YOLOV5S_PERSON_DETECTION/yolov5/../videos/v11.mp4: 480x640 3 persons, Done. (0.007s)\n",
      "video 1/1 (28/325) /media/paul/disco5/ANACONDA/LYTICA/YOLOV5S_PERSON_DETECTION/yolov5/../videos/v11.mp4: 480x640 3 persons, Done. (0.008s)\n",
      "video 1/1 (29/325) /media/paul/disco5/ANACONDA/LYTICA/YOLOV5S_PERSON_DETECTION/yolov5/../videos/v11.mp4: 480x640 3 persons, Done. (0.008s)\n",
      "video 1/1 (30/325) /media/paul/disco5/ANACONDA/LYTICA/YOLOV5S_PERSON_DETECTION/yolov5/../videos/v11.mp4: 480x640 3 persons, Done. (0.007s)\n",
      "video 1/1 (31/325) /media/paul/disco5/ANACONDA/LYTICA/YOLOV5S_PERSON_DETECTION/yolov5/../videos/v11.mp4: 480x640 3 persons, Done. (0.007s)\n",
      "video 1/1 (32/325) /media/paul/disco5/ANACONDA/LYTICA/YOLOV5S_PERSON_DETECTION/yolov5/../videos/v11.mp4: 480x640 3 persons, Done. (0.007s)\n",
      "video 1/1 (33/325) /media/paul/disco5/ANACONDA/LYTICA/YOLOV5S_PERSON_DETECTION/yolov5/../videos/v11.mp4: 480x640 3 persons, Done. (0.008s)\n",
      "video 1/1 (34/325) /media/paul/disco5/ANACONDA/LYTICA/YOLOV5S_PERSON_DETECTION/yolov5/../videos/v11.mp4: 480x640 3 persons, Done. (0.008s)\n",
      "video 1/1 (35/325) /media/paul/disco5/ANACONDA/LYTICA/YOLOV5S_PERSON_DETECTION/yolov5/../videos/v11.mp4: 480x640 3 persons, Done. (0.007s)\n",
      "video 1/1 (36/325) /media/paul/disco5/ANACONDA/LYTICA/YOLOV5S_PERSON_DETECTION/yolov5/../videos/v11.mp4: 480x640 3 persons, Done. (0.007s)\n",
      "video 1/1 (37/325) /media/paul/disco5/ANACONDA/LYTICA/YOLOV5S_PERSON_DETECTION/yolov5/../videos/v11.mp4: 480x640 3 persons, Done. (0.007s)\n",
      "video 1/1 (38/325) /media/paul/disco5/ANACONDA/LYTICA/YOLOV5S_PERSON_DETECTION/yolov5/../videos/v11.mp4: 480x640 3 persons, Done. (0.007s)\n",
      "video 1/1 (39/325) /media/paul/disco5/ANACONDA/LYTICA/YOLOV5S_PERSON_DETECTION/yolov5/../videos/v11.mp4: 480x640 3 persons, Done. (0.007s)\n",
      "video 1/1 (40/325) /media/paul/disco5/ANACONDA/LYTICA/YOLOV5S_PERSON_DETECTION/yolov5/../videos/v11.mp4: 480x640 3 persons, Done. (0.007s)\n",
      "video 1/1 (41/325) /media/paul/disco5/ANACONDA/LYTICA/YOLOV5S_PERSON_DETECTION/yolov5/../videos/v11.mp4: 480x640 3 persons, Done. (0.007s)\n",
      "video 1/1 (42/325) /media/paul/disco5/ANACONDA/LYTICA/YOLOV5S_PERSON_DETECTION/yolov5/../videos/v11.mp4: 480x640 3 persons, Done. (0.007s)\n",
      "video 1/1 (43/325) /media/paul/disco5/ANACONDA/LYTICA/YOLOV5S_PERSON_DETECTION/yolov5/../videos/v11.mp4: 480x640 3 persons, Done. (0.008s)\n",
      "video 1/1 (44/325) /media/paul/disco5/ANACONDA/LYTICA/YOLOV5S_PERSON_DETECTION/yolov5/../videos/v11.mp4: 480x640 3 persons, Done. (0.007s)\n",
      "video 1/1 (45/325) /media/paul/disco5/ANACONDA/LYTICA/YOLOV5S_PERSON_DETECTION/yolov5/../videos/v11.mp4: 480x640 3 persons, Done. (0.007s)\n",
      "video 1/1 (46/325) /media/paul/disco5/ANACONDA/LYTICA/YOLOV5S_PERSON_DETECTION/yolov5/../videos/v11.mp4: 480x640 3 persons, Done. (0.007s)\n",
      "video 1/1 (47/325) /media/paul/disco5/ANACONDA/LYTICA/YOLOV5S_PERSON_DETECTION/yolov5/../videos/v11.mp4: 480x640 4 persons, Done. (0.011s)\n",
      "video 1/1 (48/325) /media/paul/disco5/ANACONDA/LYTICA/YOLOV5S_PERSON_DETECTION/yolov5/../videos/v11.mp4: 480x640 3 persons, Done. (0.007s)\n",
      "video 1/1 (49/325) /media/paul/disco5/ANACONDA/LYTICA/YOLOV5S_PERSON_DETECTION/yolov5/../videos/v11.mp4: 480x640 3 persons, Done. (0.008s)\n",
      "video 1/1 (50/325) /media/paul/disco5/ANACONDA/LYTICA/YOLOV5S_PERSON_DETECTION/yolov5/../videos/v11.mp4: 480x640 4 persons, Done. (0.007s)\n",
      "video 1/1 (51/325) /media/paul/disco5/ANACONDA/LYTICA/YOLOV5S_PERSON_DETECTION/yolov5/../videos/v11.mp4: 480x640 3 persons, Done. (0.007s)\n",
      "video 1/1 (52/325) /media/paul/disco5/ANACONDA/LYTICA/YOLOV5S_PERSON_DETECTION/yolov5/../videos/v11.mp4: 480x640 3 persons, Done. (0.007s)\n",
      "video 1/1 (53/325) /media/paul/disco5/ANACONDA/LYTICA/YOLOV5S_PERSON_DETECTION/yolov5/../videos/v11.mp4: 480x640 4 persons, Done. (0.007s)\n",
      "video 1/1 (54/325) /media/paul/disco5/ANACONDA/LYTICA/YOLOV5S_PERSON_DETECTION/yolov5/../videos/v11.mp4: 480x640 3 persons, Done. (0.007s)\n",
      "video 1/1 (55/325) /media/paul/disco5/ANACONDA/LYTICA/YOLOV5S_PERSON_DETECTION/yolov5/../videos/v11.mp4: 480x640 4 persons, Done. (0.007s)\n",
      "video 1/1 (56/325) /media/paul/disco5/ANACONDA/LYTICA/YOLOV5S_PERSON_DETECTION/yolov5/../videos/v11.mp4: 480x640 5 persons, Done. (0.007s)\n",
      "video 1/1 (57/325) /media/paul/disco5/ANACONDA/LYTICA/YOLOV5S_PERSON_DETECTION/yolov5/../videos/v11.mp4: 480x640 5 persons, Done. (0.007s)\n",
      "video 1/1 (58/325) /media/paul/disco5/ANACONDA/LYTICA/YOLOV5S_PERSON_DETECTION/yolov5/../videos/v11.mp4: 480x640 5 persons, Done. (0.008s)\n",
      "video 1/1 (59/325) /media/paul/disco5/ANACONDA/LYTICA/YOLOV5S_PERSON_DETECTION/yolov5/../videos/v11.mp4: 480x640 5 persons, Done. (0.007s)\n",
      "video 1/1 (60/325) /media/paul/disco5/ANACONDA/LYTICA/YOLOV5S_PERSON_DETECTION/yolov5/../videos/v11.mp4: 480x640 5 persons, Done. (0.007s)\n",
      "video 1/1 (61/325) /media/paul/disco5/ANACONDA/LYTICA/YOLOV5S_PERSON_DETECTION/yolov5/../videos/v11.mp4: 480x640 5 persons, Done. (0.007s)\n",
      "video 1/1 (62/325) /media/paul/disco5/ANACONDA/LYTICA/YOLOV5S_PERSON_DETECTION/yolov5/../videos/v11.mp4: 480x640 5 persons, Done. (0.008s)\n",
      "video 1/1 (63/325) /media/paul/disco5/ANACONDA/LYTICA/YOLOV5S_PERSON_DETECTION/yolov5/../videos/v11.mp4: 480x640 4 persons, Done. (0.007s)\n",
      "video 1/1 (64/325) /media/paul/disco5/ANACONDA/LYTICA/YOLOV5S_PERSON_DETECTION/yolov5/../videos/v11.mp4: 480x640 5 persons, Done. (0.007s)\n",
      "video 1/1 (65/325) /media/paul/disco5/ANACONDA/LYTICA/YOLOV5S_PERSON_DETECTION/yolov5/../videos/v11.mp4: 480x640 5 persons, Done. (0.007s)\n",
      "video 1/1 (66/325) /media/paul/disco5/ANACONDA/LYTICA/YOLOV5S_PERSON_DETECTION/yolov5/../videos/v11.mp4: 480x640 5 persons, Done. (0.008s)\n",
      "video 1/1 (67/325) /media/paul/disco5/ANACONDA/LYTICA/YOLOV5S_PERSON_DETECTION/yolov5/../videos/v11.mp4: 480x640 5 persons, Done. (0.007s)\n",
      "video 1/1 (68/325) /media/paul/disco5/ANACONDA/LYTICA/YOLOV5S_PERSON_DETECTION/yolov5/../videos/v11.mp4: 480x640 5 persons, Done. (0.007s)\n",
      "video 1/1 (69/325) /media/paul/disco5/ANACONDA/LYTICA/YOLOV5S_PERSON_DETECTION/yolov5/../videos/v11.mp4: 480x640 5 persons, Done. (0.007s)\n",
      "video 1/1 (70/325) /media/paul/disco5/ANACONDA/LYTICA/YOLOV5S_PERSON_DETECTION/yolov5/../videos/v11.mp4: 480x640 5 persons, Done. (0.007s)\n",
      "video 1/1 (71/325) /media/paul/disco5/ANACONDA/LYTICA/YOLOV5S_PERSON_DETECTION/yolov5/../videos/v11.mp4: 480x640 5 persons, Done. (0.007s)\n",
      "video 1/1 (72/325) /media/paul/disco5/ANACONDA/LYTICA/YOLOV5S_PERSON_DETECTION/yolov5/../videos/v11.mp4: 480x640 5 persons, Done. (0.007s)\n",
      "video 1/1 (73/325) /media/paul/disco5/ANACONDA/LYTICA/YOLOV5S_PERSON_DETECTION/yolov5/../videos/v11.mp4: 480x640 5 persons, Done. (0.008s)\n",
      "video 1/1 (74/325) /media/paul/disco5/ANACONDA/LYTICA/YOLOV5S_PERSON_DETECTION/yolov5/../videos/v11.mp4: 480x640 5 persons, Done. (0.007s)\n",
      "video 1/1 (75/325) /media/paul/disco5/ANACONDA/LYTICA/YOLOV5S_PERSON_DETECTION/yolov5/../videos/v11.mp4: 480x640 5 persons, Done. (0.007s)\n",
      "video 1/1 (76/325) /media/paul/disco5/ANACONDA/LYTICA/YOLOV5S_PERSON_DETECTION/yolov5/../videos/v11.mp4: 480x640 4 persons, Done. (0.007s)\n",
      "video 1/1 (77/325) /media/paul/disco5/ANACONDA/LYTICA/YOLOV5S_PERSON_DETECTION/yolov5/../videos/v11.mp4: 480x640 4 persons, Done. (0.007s)\n",
      "video 1/1 (78/325) /media/paul/disco5/ANACONDA/LYTICA/YOLOV5S_PERSON_DETECTION/yolov5/../videos/v11.mp4: 480x640 4 persons, Done. (0.007s)\n",
      "video 1/1 (79/325) /media/paul/disco5/ANACONDA/LYTICA/YOLOV5S_PERSON_DETECTION/yolov5/../videos/v11.mp4: 480x640 4 persons, Done. (0.007s)\n",
      "video 1/1 (80/325) /media/paul/disco5/ANACONDA/LYTICA/YOLOV5S_PERSON_DETECTION/yolov5/../videos/v11.mp4: 480x640 4 persons, Done. (0.007s)\n",
      "video 1/1 (81/325) /media/paul/disco5/ANACONDA/LYTICA/YOLOV5S_PERSON_DETECTION/yolov5/../videos/v11.mp4: 480x640 4 persons, Done. (0.008s)\n",
      "video 1/1 (82/325) /media/paul/disco5/ANACONDA/LYTICA/YOLOV5S_PERSON_DETECTION/yolov5/../videos/v11.mp4: 480x640 4 persons, Done. (0.007s)\n",
      "video 1/1 (83/325) /media/paul/disco5/ANACONDA/LYTICA/YOLOV5S_PERSON_DETECTION/yolov5/../videos/v11.mp4: 480x640 4 persons, Done. (0.008s)\n",
      "video 1/1 (84/325) /media/paul/disco5/ANACONDA/LYTICA/YOLOV5S_PERSON_DETECTION/yolov5/../videos/v11.mp4: 480x640 4 persons, Done. (0.007s)\n",
      "video 1/1 (85/325) /media/paul/disco5/ANACONDA/LYTICA/YOLOV5S_PERSON_DETECTION/yolov5/../videos/v11.mp4: 480x640 4 persons, Done. (0.008s)\n",
      "video 1/1 (86/325) /media/paul/disco5/ANACONDA/LYTICA/YOLOV5S_PERSON_DETECTION/yolov5/../videos/v11.mp4: 480x640 3 persons, Done. (0.007s)\n",
      "video 1/1 (87/325) /media/paul/disco5/ANACONDA/LYTICA/YOLOV5S_PERSON_DETECTION/yolov5/../videos/v11.mp4: 480x640 4 persons, Done. (0.007s)\n",
      "video 1/1 (88/325) /media/paul/disco5/ANACONDA/LYTICA/YOLOV5S_PERSON_DETECTION/yolov5/../videos/v11.mp4: 480x640 3 persons, Done. (0.007s)\n",
      "video 1/1 (89/325) /media/paul/disco5/ANACONDA/LYTICA/YOLOV5S_PERSON_DETECTION/yolov5/../videos/v11.mp4: 480x640 3 persons, Done. (0.008s)\n",
      "video 1/1 (90/325) /media/paul/disco5/ANACONDA/LYTICA/YOLOV5S_PERSON_DETECTION/yolov5/../videos/v11.mp4: 480x640 4 persons, Done. (0.007s)\n",
      "video 1/1 (91/325) /media/paul/disco5/ANACONDA/LYTICA/YOLOV5S_PERSON_DETECTION/yolov5/../videos/v11.mp4: 480x640 4 persons, Done. (0.007s)\n",
      "video 1/1 (92/325) /media/paul/disco5/ANACONDA/LYTICA/YOLOV5S_PERSON_DETECTION/yolov5/../videos/v11.mp4: 480x640 3 persons, Done. (0.008s)\n",
      "video 1/1 (93/325) /media/paul/disco5/ANACONDA/LYTICA/YOLOV5S_PERSON_DETECTION/yolov5/../videos/v11.mp4: 480x640 4 persons, Done. (0.007s)\n",
      "video 1/1 (94/325) /media/paul/disco5/ANACONDA/LYTICA/YOLOV5S_PERSON_DETECTION/yolov5/../videos/v11.mp4: 480x640 3 persons, Done. (0.007s)\n",
      "video 1/1 (95/325) /media/paul/disco5/ANACONDA/LYTICA/YOLOV5S_PERSON_DETECTION/yolov5/../videos/v11.mp4: 480x640 4 persons, Done. (0.007s)\n",
      "video 1/1 (96/325) /media/paul/disco5/ANACONDA/LYTICA/YOLOV5S_PERSON_DETECTION/yolov5/../videos/v11.mp4: 480x640 3 persons, Done. (0.007s)\n",
      "video 1/1 (97/325) /media/paul/disco5/ANACONDA/LYTICA/YOLOV5S_PERSON_DETECTION/yolov5/../videos/v11.mp4: 480x640 4 persons, Done. (0.007s)\n",
      "video 1/1 (98/325) /media/paul/disco5/ANACONDA/LYTICA/YOLOV5S_PERSON_DETECTION/yolov5/../videos/v11.mp4: 480x640 4 persons, Done. (0.007s)\n",
      "video 1/1 (99/325) /media/paul/disco5/ANACONDA/LYTICA/YOLOV5S_PERSON_DETECTION/yolov5/../videos/v11.mp4: 480x640 4 persons, Done. (0.008s)\n",
      "video 1/1 (100/325) /media/paul/disco5/ANACONDA/LYTICA/YOLOV5S_PERSON_DETECTION/yolov5/../videos/v11.mp4: 480x640 4 persons, Done. (0.007s)\n",
      "video 1/1 (101/325) /media/paul/disco5/ANACONDA/LYTICA/YOLOV5S_PERSON_DETECTION/yolov5/../videos/v11.mp4: 480x640 4 persons, Done. (0.007s)\n",
      "video 1/1 (102/325) /media/paul/disco5/ANACONDA/LYTICA/YOLOV5S_PERSON_DETECTION/yolov5/../videos/v11.mp4: 480x640 5 persons, Done. (0.007s)\n",
      "video 1/1 (103/325) /media/paul/disco5/ANACONDA/LYTICA/YOLOV5S_PERSON_DETECTION/yolov5/../videos/v11.mp4: 480x640 5 persons, Done. (0.007s)\n",
      "video 1/1 (104/325) /media/paul/disco5/ANACONDA/LYTICA/YOLOV5S_PERSON_DETECTION/yolov5/../videos/v11.mp4: 480x640 5 persons, Done. (0.007s)\n",
      "video 1/1 (105/325) /media/paul/disco5/ANACONDA/LYTICA/YOLOV5S_PERSON_DETECTION/yolov5/../videos/v11.mp4: 480x640 5 persons, Done. (0.008s)\n",
      "video 1/1 (106/325) /media/paul/disco5/ANACONDA/LYTICA/YOLOV5S_PERSON_DETECTION/yolov5/../videos/v11.mp4: 480x640 5 persons, Done. (0.007s)\n",
      "video 1/1 (107/325) /media/paul/disco5/ANACONDA/LYTICA/YOLOV5S_PERSON_DETECTION/yolov5/../videos/v11.mp4: 480x640 5 persons, Done. (0.007s)\n",
      "video 1/1 (108/325) /media/paul/disco5/ANACONDA/LYTICA/YOLOV5S_PERSON_DETECTION/yolov5/../videos/v11.mp4: 480x640 5 persons, Done. (0.007s)\n",
      "video 1/1 (109/325) /media/paul/disco5/ANACONDA/LYTICA/YOLOV5S_PERSON_DETECTION/yolov5/../videos/v11.mp4: 480x640 4 persons, Done. (0.008s)\n",
      "video 1/1 (110/325) /media/paul/disco5/ANACONDA/LYTICA/YOLOV5S_PERSON_DETECTION/yolov5/../videos/v11.mp4: 480x640 3 persons, Done. (0.008s)\n",
      "video 1/1 (111/325) /media/paul/disco5/ANACONDA/LYTICA/YOLOV5S_PERSON_DETECTION/yolov5/../videos/v11.mp4: 480x640 3 persons, Done. (0.008s)\n",
      "video 1/1 (112/325) /media/paul/disco5/ANACONDA/LYTICA/YOLOV5S_PERSON_DETECTION/yolov5/../videos/v11.mp4: 480x640 3 persons, Done. (0.007s)\n",
      "video 1/1 (113/325) /media/paul/disco5/ANACONDA/LYTICA/YOLOV5S_PERSON_DETECTION/yolov5/../videos/v11.mp4: 480x640 3 persons, Done. (0.007s)\n",
      "video 1/1 (114/325) /media/paul/disco5/ANACONDA/LYTICA/YOLOV5S_PERSON_DETECTION/yolov5/../videos/v11.mp4: 480x640 3 persons, Done. (0.007s)\n",
      "video 1/1 (115/325) /media/paul/disco5/ANACONDA/LYTICA/YOLOV5S_PERSON_DETECTION/yolov5/../videos/v11.mp4: 480x640 3 persons, Done. (0.007s)\n",
      "video 1/1 (116/325) /media/paul/disco5/ANACONDA/LYTICA/YOLOV5S_PERSON_DETECTION/yolov5/../videos/v11.mp4: 480x640 3 persons, Done. (0.008s)\n",
      "video 1/1 (117/325) /media/paul/disco5/ANACONDA/LYTICA/YOLOV5S_PERSON_DETECTION/yolov5/../videos/v11.mp4: 480x640 3 persons, Done. (0.007s)\n",
      "video 1/1 (118/325) /media/paul/disco5/ANACONDA/LYTICA/YOLOV5S_PERSON_DETECTION/yolov5/../videos/v11.mp4: 480x640 3 persons, Done. (0.007s)\n",
      "video 1/1 (119/325) /media/paul/disco5/ANACONDA/LYTICA/YOLOV5S_PERSON_DETECTION/yolov5/../videos/v11.mp4: 480x640 3 persons, Done. (0.007s)\n",
      "video 1/1 (120/325) /media/paul/disco5/ANACONDA/LYTICA/YOLOV5S_PERSON_DETECTION/yolov5/../videos/v11.mp4: 480x640 3 persons, Done. (0.007s)\n",
      "video 1/1 (121/325) /media/paul/disco5/ANACONDA/LYTICA/YOLOV5S_PERSON_DETECTION/yolov5/../videos/v11.mp4: 480x640 3 persons, Done. (0.007s)\n",
      "video 1/1 (122/325) /media/paul/disco5/ANACONDA/LYTICA/YOLOV5S_PERSON_DETECTION/yolov5/../videos/v11.mp4: 480x640 3 persons, Done. (0.008s)\n",
      "video 1/1 (123/325) /media/paul/disco5/ANACONDA/LYTICA/YOLOV5S_PERSON_DETECTION/yolov5/../videos/v11.mp4: 480x640 3 persons, Done. (0.007s)\n",
      "video 1/1 (124/325) /media/paul/disco5/ANACONDA/LYTICA/YOLOV5S_PERSON_DETECTION/yolov5/../videos/v11.mp4: 480x640 3 persons, Done. (0.007s)\n",
      "video 1/1 (125/325) /media/paul/disco5/ANACONDA/LYTICA/YOLOV5S_PERSON_DETECTION/yolov5/../videos/v11.mp4: 480x640 3 persons, Done. (0.007s)\n",
      "video 1/1 (126/325) /media/paul/disco5/ANACONDA/LYTICA/YOLOV5S_PERSON_DETECTION/yolov5/../videos/v11.mp4: 480x640 3 persons, Done. (0.007s)\n",
      "video 1/1 (127/325) /media/paul/disco5/ANACONDA/LYTICA/YOLOV5S_PERSON_DETECTION/yolov5/../videos/v11.mp4: 480x640 3 persons, Done. (0.007s)\n",
      "video 1/1 (128/325) /media/paul/disco5/ANACONDA/LYTICA/YOLOV5S_PERSON_DETECTION/yolov5/../videos/v11.mp4: 480x640 3 persons, Done. (0.008s)\n",
      "video 1/1 (129/325) /media/paul/disco5/ANACONDA/LYTICA/YOLOV5S_PERSON_DETECTION/yolov5/../videos/v11.mp4: 480x640 3 persons, Done. (0.008s)\n",
      "video 1/1 (130/325) /media/paul/disco5/ANACONDA/LYTICA/YOLOV5S_PERSON_DETECTION/yolov5/../videos/v11.mp4: 480x640 3 persons, Done. (0.007s)\n",
      "video 1/1 (131/325) /media/paul/disco5/ANACONDA/LYTICA/YOLOV5S_PERSON_DETECTION/yolov5/../videos/v11.mp4: 480x640 3 persons, Done. (0.007s)\n",
      "video 1/1 (132/325) /media/paul/disco5/ANACONDA/LYTICA/YOLOV5S_PERSON_DETECTION/yolov5/../videos/v11.mp4: 480x640 3 persons, Done. (0.007s)\n",
      "video 1/1 (133/325) /media/paul/disco5/ANACONDA/LYTICA/YOLOV5S_PERSON_DETECTION/yolov5/../videos/v11.mp4: 480x640 3 persons, Done. (0.007s)\n",
      "video 1/1 (134/325) /media/paul/disco5/ANACONDA/LYTICA/YOLOV5S_PERSON_DETECTION/yolov5/../videos/v11.mp4: 480x640 3 persons, Done. (0.007s)\n",
      "video 1/1 (135/325) /media/paul/disco5/ANACONDA/LYTICA/YOLOV5S_PERSON_DETECTION/yolov5/../videos/v11.mp4: 480x640 3 persons, Done. (0.008s)\n",
      "video 1/1 (136/325) /media/paul/disco5/ANACONDA/LYTICA/YOLOV5S_PERSON_DETECTION/yolov5/../videos/v11.mp4: 480x640 3 persons, Done. (0.007s)\n",
      "video 1/1 (137/325) /media/paul/disco5/ANACONDA/LYTICA/YOLOV5S_PERSON_DETECTION/yolov5/../videos/v11.mp4: 480x640 3 persons, Done. (0.007s)\n",
      "video 1/1 (138/325) /media/paul/disco5/ANACONDA/LYTICA/YOLOV5S_PERSON_DETECTION/yolov5/../videos/v11.mp4: 480x640 3 persons, Done. (0.008s)\n",
      "video 1/1 (139/325) /media/paul/disco5/ANACONDA/LYTICA/YOLOV5S_PERSON_DETECTION/yolov5/../videos/v11.mp4: 480x640 3 persons, Done. (0.007s)\n",
      "video 1/1 (140/325) /media/paul/disco5/ANACONDA/LYTICA/YOLOV5S_PERSON_DETECTION/yolov5/../videos/v11.mp4: 480x640 3 persons, Done. (0.007s)\n",
      "video 1/1 (141/325) /media/paul/disco5/ANACONDA/LYTICA/YOLOV5S_PERSON_DETECTION/yolov5/../videos/v11.mp4: 480x640 4 persons, Done. (0.007s)\n",
      "video 1/1 (142/325) /media/paul/disco5/ANACONDA/LYTICA/YOLOV5S_PERSON_DETECTION/yolov5/../videos/v11.mp4: 480x640 3 persons, Done. (0.008s)\n",
      "video 1/1 (143/325) /media/paul/disco5/ANACONDA/LYTICA/YOLOV5S_PERSON_DETECTION/yolov5/../videos/v11.mp4: 480x640 4 persons, Done. (0.007s)\n",
      "video 1/1 (144/325) /media/paul/disco5/ANACONDA/LYTICA/YOLOV5S_PERSON_DETECTION/yolov5/../videos/v11.mp4: 480x640 4 persons, Done. (0.007s)\n",
      "video 1/1 (145/325) /media/paul/disco5/ANACONDA/LYTICA/YOLOV5S_PERSON_DETECTION/yolov5/../videos/v11.mp4: 480x640 4 persons, Done. (0.007s)\n",
      "video 1/1 (146/325) /media/paul/disco5/ANACONDA/LYTICA/YOLOV5S_PERSON_DETECTION/yolov5/../videos/v11.mp4: 480x640 4 persons, Done. (0.007s)\n",
      "video 1/1 (147/325) /media/paul/disco5/ANACONDA/LYTICA/YOLOV5S_PERSON_DETECTION/yolov5/../videos/v11.mp4: 480x640 5 persons, Done. (0.007s)\n",
      "video 1/1 (148/325) /media/paul/disco5/ANACONDA/LYTICA/YOLOV5S_PERSON_DETECTION/yolov5/../videos/v11.mp4: 480x640 4 persons, Done. (0.008s)\n",
      "video 1/1 (149/325) /media/paul/disco5/ANACONDA/LYTICA/YOLOV5S_PERSON_DETECTION/yolov5/../videos/v11.mp4: 480x640 4 persons, Done. (0.007s)\n",
      "video 1/1 (150/325) /media/paul/disco5/ANACONDA/LYTICA/YOLOV5S_PERSON_DETECTION/yolov5/../videos/v11.mp4: 480x640 4 persons, Done. (0.007s)\n",
      "video 1/1 (151/325) /media/paul/disco5/ANACONDA/LYTICA/YOLOV5S_PERSON_DETECTION/yolov5/../videos/v11.mp4: 480x640 4 persons, Done. (0.007s)\n",
      "video 1/1 (152/325) /media/paul/disco5/ANACONDA/LYTICA/YOLOV5S_PERSON_DETECTION/yolov5/../videos/v11.mp4: 480x640 4 persons, Done. (0.007s)\n",
      "video 1/1 (153/325) /media/paul/disco5/ANACONDA/LYTICA/YOLOV5S_PERSON_DETECTION/yolov5/../videos/v11.mp4: 480x640 4 persons, Done. (0.007s)\n",
      "video 1/1 (154/325) /media/paul/disco5/ANACONDA/LYTICA/YOLOV5S_PERSON_DETECTION/yolov5/../videos/v11.mp4: 480x640 4 persons, Done. (0.007s)\n",
      "video 1/1 (155/325) /media/paul/disco5/ANACONDA/LYTICA/YOLOV5S_PERSON_DETECTION/yolov5/../videos/v11.mp4: 480x640 4 persons, Done. (0.007s)\n",
      "video 1/1 (156/325) /media/paul/disco5/ANACONDA/LYTICA/YOLOV5S_PERSON_DETECTION/yolov5/../videos/v11.mp4: 480x640 4 persons, Done. (0.008s)\n",
      "video 1/1 (157/325) /media/paul/disco5/ANACONDA/LYTICA/YOLOV5S_PERSON_DETECTION/yolov5/../videos/v11.mp4: 480x640 4 persons, Done. (0.007s)\n",
      "video 1/1 (158/325) /media/paul/disco5/ANACONDA/LYTICA/YOLOV5S_PERSON_DETECTION/yolov5/../videos/v11.mp4: 480x640 4 persons, Done. (0.007s)\n",
      "video 1/1 (159/325) /media/paul/disco5/ANACONDA/LYTICA/YOLOV5S_PERSON_DETECTION/yolov5/../videos/v11.mp4: 480x640 4 persons, Done. (0.008s)\n",
      "video 1/1 (160/325) /media/paul/disco5/ANACONDA/LYTICA/YOLOV5S_PERSON_DETECTION/yolov5/../videos/v11.mp4: 480x640 4 persons, Done. (0.007s)\n",
      "video 1/1 (161/325) /media/paul/disco5/ANACONDA/LYTICA/YOLOV5S_PERSON_DETECTION/yolov5/../videos/v11.mp4: 480x640 4 persons, Done. (0.007s)\n",
      "video 1/1 (162/325) /media/paul/disco5/ANACONDA/LYTICA/YOLOV5S_PERSON_DETECTION/yolov5/../videos/v11.mp4: 480x640 4 persons, Done. (0.007s)\n",
      "video 1/1 (163/325) /media/paul/disco5/ANACONDA/LYTICA/YOLOV5S_PERSON_DETECTION/yolov5/../videos/v11.mp4: 480x640 4 persons, Done. (0.008s)\n",
      "video 1/1 (164/325) /media/paul/disco5/ANACONDA/LYTICA/YOLOV5S_PERSON_DETECTION/yolov5/../videos/v11.mp4: 480x640 4 persons, Done. (0.007s)\n",
      "video 1/1 (165/325) /media/paul/disco5/ANACONDA/LYTICA/YOLOV5S_PERSON_DETECTION/yolov5/../videos/v11.mp4: 480x640 4 persons, Done. (0.007s)\n",
      "video 1/1 (166/325) /media/paul/disco5/ANACONDA/LYTICA/YOLOV5S_PERSON_DETECTION/yolov5/../videos/v11.mp4: 480x640 4 persons, Done. (0.007s)\n",
      "video 1/1 (167/325) /media/paul/disco5/ANACONDA/LYTICA/YOLOV5S_PERSON_DETECTION/yolov5/../videos/v11.mp4: 480x640 3 persons, Done. (0.008s)\n",
      "video 1/1 (168/325) /media/paul/disco5/ANACONDA/LYTICA/YOLOV5S_PERSON_DETECTION/yolov5/../videos/v11.mp4: 480x640 3 persons, Done. (0.007s)\n",
      "video 1/1 (169/325) /media/paul/disco5/ANACONDA/LYTICA/YOLOV5S_PERSON_DETECTION/yolov5/../videos/v11.mp4: 480x640 3 persons, Done. (0.007s)\n",
      "video 1/1 (170/325) /media/paul/disco5/ANACONDA/LYTICA/YOLOV5S_PERSON_DETECTION/yolov5/../videos/v11.mp4: 480x640 3 persons, Done. (0.007s)\n",
      "video 1/1 (171/325) /media/paul/disco5/ANACONDA/LYTICA/YOLOV5S_PERSON_DETECTION/yolov5/../videos/v11.mp4: 480x640 4 persons, Done. (0.008s)\n",
      "video 1/1 (172/325) /media/paul/disco5/ANACONDA/LYTICA/YOLOV5S_PERSON_DETECTION/yolov5/../videos/v11.mp4: 480x640 4 persons, Done. (0.007s)\n",
      "video 1/1 (173/325) /media/paul/disco5/ANACONDA/LYTICA/YOLOV5S_PERSON_DETECTION/yolov5/../videos/v11.mp4: 480x640 4 persons, Done. (0.008s)\n",
      "video 1/1 (174/325) /media/paul/disco5/ANACONDA/LYTICA/YOLOV5S_PERSON_DETECTION/yolov5/../videos/v11.mp4: 480x640 4 persons, Done. (0.007s)\n",
      "video 1/1 (175/325) /media/paul/disco5/ANACONDA/LYTICA/YOLOV5S_PERSON_DETECTION/yolov5/../videos/v11.mp4: 480x640 5 persons, Done. (0.007s)\n",
      "video 1/1 (176/325) /media/paul/disco5/ANACONDA/LYTICA/YOLOV5S_PERSON_DETECTION/yolov5/../videos/v11.mp4: 480x640 4 persons, Done. (0.007s)\n",
      "video 1/1 (177/325) /media/paul/disco5/ANACONDA/LYTICA/YOLOV5S_PERSON_DETECTION/yolov5/../videos/v11.mp4: 480x640 5 persons, Done. (0.007s)\n",
      "video 1/1 (178/325) /media/paul/disco5/ANACONDA/LYTICA/YOLOV5S_PERSON_DETECTION/yolov5/../videos/v11.mp4: 480x640 5 persons, Done. (0.007s)\n",
      "video 1/1 (179/325) /media/paul/disco5/ANACONDA/LYTICA/YOLOV5S_PERSON_DETECTION/yolov5/../videos/v11.mp4: 480x640 4 persons, Done. (0.008s)\n",
      "video 1/1 (180/325) /media/paul/disco5/ANACONDA/LYTICA/YOLOV5S_PERSON_DETECTION/yolov5/../videos/v11.mp4: 480x640 4 persons, Done. (0.007s)\n",
      "video 1/1 (181/325) /media/paul/disco5/ANACONDA/LYTICA/YOLOV5S_PERSON_DETECTION/yolov5/../videos/v11.mp4: 480x640 4 persons, Done. (0.007s)\n",
      "video 1/1 (182/325) /media/paul/disco5/ANACONDA/LYTICA/YOLOV5S_PERSON_DETECTION/yolov5/../videos/v11.mp4: 480x640 4 persons, Done. (0.007s)\n",
      "video 1/1 (183/325) /media/paul/disco5/ANACONDA/LYTICA/YOLOV5S_PERSON_DETECTION/yolov5/../videos/v11.mp4: 480x640 4 persons, Done. (0.007s)\n",
      "video 1/1 (184/325) /media/paul/disco5/ANACONDA/LYTICA/YOLOV5S_PERSON_DETECTION/yolov5/../videos/v11.mp4: 480x640 4 persons, Done. (0.007s)\n",
      "video 1/1 (185/325) /media/paul/disco5/ANACONDA/LYTICA/YOLOV5S_PERSON_DETECTION/yolov5/../videos/v11.mp4: 480x640 4 persons, Done. (0.007s)\n",
      "video 1/1 (186/325) /media/paul/disco5/ANACONDA/LYTICA/YOLOV5S_PERSON_DETECTION/yolov5/../videos/v11.mp4: 480x640 4 persons, Done. (0.007s)\n",
      "video 1/1 (187/325) /media/paul/disco5/ANACONDA/LYTICA/YOLOV5S_PERSON_DETECTION/yolov5/../videos/v11.mp4: 480x640 4 persons, Done. (0.007s)\n",
      "video 1/1 (188/325) /media/paul/disco5/ANACONDA/LYTICA/YOLOV5S_PERSON_DETECTION/yolov5/../videos/v11.mp4: 480x640 5 persons, Done. (0.007s)\n",
      "video 1/1 (189/325) /media/paul/disco5/ANACONDA/LYTICA/YOLOV5S_PERSON_DETECTION/yolov5/../videos/v11.mp4: 480x640 5 persons, Done. (0.009s)\n",
      "video 1/1 (190/325) /media/paul/disco5/ANACONDA/LYTICA/YOLOV5S_PERSON_DETECTION/yolov5/../videos/v11.mp4: 480x640 5 persons, Done. (0.007s)\n",
      "video 1/1 (191/325) /media/paul/disco5/ANACONDA/LYTICA/YOLOV5S_PERSON_DETECTION/yolov5/../videos/v11.mp4: 480x640 5 persons, Done. (0.008s)\n",
      "video 1/1 (192/325) /media/paul/disco5/ANACONDA/LYTICA/YOLOV5S_PERSON_DETECTION/yolov5/../videos/v11.mp4: 480x640 5 persons, Done. (0.007s)\n",
      "video 1/1 (193/325) /media/paul/disco5/ANACONDA/LYTICA/YOLOV5S_PERSON_DETECTION/yolov5/../videos/v11.mp4: 480x640 5 persons, Done. (0.007s)\n",
      "video 1/1 (194/325) /media/paul/disco5/ANACONDA/LYTICA/YOLOV5S_PERSON_DETECTION/yolov5/../videos/v11.mp4: 480x640 4 persons, Done. (0.007s)\n",
      "video 1/1 (195/325) /media/paul/disco5/ANACONDA/LYTICA/YOLOV5S_PERSON_DETECTION/yolov5/../videos/v11.mp4: 480x640 5 persons, Done. (0.008s)\n",
      "video 1/1 (196/325) /media/paul/disco5/ANACONDA/LYTICA/YOLOV5S_PERSON_DETECTION/yolov5/../videos/v11.mp4: 480x640 5 persons, Done. (0.007s)\n",
      "video 1/1 (197/325) /media/paul/disco5/ANACONDA/LYTICA/YOLOV5S_PERSON_DETECTION/yolov5/../videos/v11.mp4: 480x640 5 persons, Done. (0.007s)\n",
      "video 1/1 (198/325) /media/paul/disco5/ANACONDA/LYTICA/YOLOV5S_PERSON_DETECTION/yolov5/../videos/v11.mp4: 480x640 4 persons, Done. (0.007s)\n",
      "video 1/1 (199/325) /media/paul/disco5/ANACONDA/LYTICA/YOLOV5S_PERSON_DETECTION/yolov5/../videos/v11.mp4: 480x640 4 persons, Done. (0.007s)\n",
      "video 1/1 (200/325) /media/paul/disco5/ANACONDA/LYTICA/YOLOV5S_PERSON_DETECTION/yolov5/../videos/v11.mp4: 480x640 4 persons, Done. (0.007s)\n",
      "video 1/1 (201/325) /media/paul/disco5/ANACONDA/LYTICA/YOLOV5S_PERSON_DETECTION/yolov5/../videos/v11.mp4: 480x640 4 persons, Done. (0.007s)\n",
      "video 1/1 (202/325) /media/paul/disco5/ANACONDA/LYTICA/YOLOV5S_PERSON_DETECTION/yolov5/../videos/v11.mp4: 480x640 4 persons, Done. (0.007s)\n",
      "video 1/1 (203/325) /media/paul/disco5/ANACONDA/LYTICA/YOLOV5S_PERSON_DETECTION/yolov5/../videos/v11.mp4: 480x640 4 persons, Done. (0.007s)\n",
      "video 1/1 (204/325) /media/paul/disco5/ANACONDA/LYTICA/YOLOV5S_PERSON_DETECTION/yolov5/../videos/v11.mp4: 480x640 4 persons, Done. (0.007s)\n",
      "video 1/1 (205/325) /media/paul/disco5/ANACONDA/LYTICA/YOLOV5S_PERSON_DETECTION/yolov5/../videos/v11.mp4: 480x640 4 persons, Done. (0.007s)\n",
      "video 1/1 (206/325) /media/paul/disco5/ANACONDA/LYTICA/YOLOV5S_PERSON_DETECTION/yolov5/../videos/v11.mp4: 480x640 4 persons, Done. (0.007s)\n",
      "video 1/1 (207/325) /media/paul/disco5/ANACONDA/LYTICA/YOLOV5S_PERSON_DETECTION/yolov5/../videos/v11.mp4: 480x640 4 persons, Done. (0.007s)\n",
      "video 1/1 (208/325) /media/paul/disco5/ANACONDA/LYTICA/YOLOV5S_PERSON_DETECTION/yolov5/../videos/v11.mp4: 480x640 4 persons, Done. (0.007s)\n",
      "video 1/1 (209/325) /media/paul/disco5/ANACONDA/LYTICA/YOLOV5S_PERSON_DETECTION/yolov5/../videos/v11.mp4: 480x640 4 persons, Done. (0.007s)\n",
      "video 1/1 (210/325) /media/paul/disco5/ANACONDA/LYTICA/YOLOV5S_PERSON_DETECTION/yolov5/../videos/v11.mp4: 480x640 4 persons, Done. (0.007s)\n",
      "video 1/1 (211/325) /media/paul/disco5/ANACONDA/LYTICA/YOLOV5S_PERSON_DETECTION/yolov5/../videos/v11.mp4: 480x640 4 persons, Done. (0.007s)\n",
      "video 1/1 (212/325) /media/paul/disco5/ANACONDA/LYTICA/YOLOV5S_PERSON_DETECTION/yolov5/../videos/v11.mp4: 480x640 4 persons, Done. (0.008s)\n",
      "video 1/1 (213/325) /media/paul/disco5/ANACONDA/LYTICA/YOLOV5S_PERSON_DETECTION/yolov5/../videos/v11.mp4: 480x640 4 persons, Done. (0.007s)\n",
      "video 1/1 (214/325) /media/paul/disco5/ANACONDA/LYTICA/YOLOV5S_PERSON_DETECTION/yolov5/../videos/v11.mp4: 480x640 4 persons, Done. (0.007s)\n",
      "video 1/1 (215/325) /media/paul/disco5/ANACONDA/LYTICA/YOLOV5S_PERSON_DETECTION/yolov5/../videos/v11.mp4: 480x640 4 persons, Done. (0.007s)\n",
      "video 1/1 (216/325) /media/paul/disco5/ANACONDA/LYTICA/YOLOV5S_PERSON_DETECTION/yolov5/../videos/v11.mp4: 480x640 4 persons, Done. (0.008s)\n",
      "video 1/1 (217/325) /media/paul/disco5/ANACONDA/LYTICA/YOLOV5S_PERSON_DETECTION/yolov5/../videos/v11.mp4: 480x640 4 persons, Done. (0.008s)\n",
      "video 1/1 (218/325) /media/paul/disco5/ANACONDA/LYTICA/YOLOV5S_PERSON_DETECTION/yolov5/../videos/v11.mp4: 480x640 4 persons, Done. (0.007s)\n",
      "video 1/1 (219/325) /media/paul/disco5/ANACONDA/LYTICA/YOLOV5S_PERSON_DETECTION/yolov5/../videos/v11.mp4: 480x640 5 persons, Done. (0.007s)\n",
      "video 1/1 (220/325) /media/paul/disco5/ANACONDA/LYTICA/YOLOV5S_PERSON_DETECTION/yolov5/../videos/v11.mp4: 480x640 4 persons, Done. (0.007s)\n",
      "video 1/1 (221/325) /media/paul/disco5/ANACONDA/LYTICA/YOLOV5S_PERSON_DETECTION/yolov5/../videos/v11.mp4: 480x640 4 persons, Done. (0.007s)\n",
      "video 1/1 (222/325) /media/paul/disco5/ANACONDA/LYTICA/YOLOV5S_PERSON_DETECTION/yolov5/../videos/v11.mp4: 480x640 4 persons, Done. (0.007s)\n",
      "video 1/1 (223/325) /media/paul/disco5/ANACONDA/LYTICA/YOLOV5S_PERSON_DETECTION/yolov5/../videos/v11.mp4: 480x640 4 persons, Done. (0.007s)\n",
      "video 1/1 (224/325) /media/paul/disco5/ANACONDA/LYTICA/YOLOV5S_PERSON_DETECTION/yolov5/../videos/v11.mp4: 480x640 4 persons, Done. (0.007s)\n",
      "video 1/1 (225/325) /media/paul/disco5/ANACONDA/LYTICA/YOLOV5S_PERSON_DETECTION/yolov5/../videos/v11.mp4: 480x640 4 persons, Done. (0.007s)\n",
      "video 1/1 (226/325) /media/paul/disco5/ANACONDA/LYTICA/YOLOV5S_PERSON_DETECTION/yolov5/../videos/v11.mp4: 480x640 4 persons, Done. (0.008s)\n",
      "video 1/1 (227/325) /media/paul/disco5/ANACONDA/LYTICA/YOLOV5S_PERSON_DETECTION/yolov5/../videos/v11.mp4: 480x640 4 persons, Done. (0.008s)\n",
      "video 1/1 (228/325) /media/paul/disco5/ANACONDA/LYTICA/YOLOV5S_PERSON_DETECTION/yolov5/../videos/v11.mp4: 480x640 4 persons, Done. (0.007s)\n",
      "video 1/1 (229/325) /media/paul/disco5/ANACONDA/LYTICA/YOLOV5S_PERSON_DETECTION/yolov5/../videos/v11.mp4: 480x640 4 persons, Done. (0.008s)\n",
      "video 1/1 (230/325) /media/paul/disco5/ANACONDA/LYTICA/YOLOV5S_PERSON_DETECTION/yolov5/../videos/v11.mp4: 480x640 4 persons, Done. (0.007s)\n",
      "video 1/1 (231/325) /media/paul/disco5/ANACONDA/LYTICA/YOLOV5S_PERSON_DETECTION/yolov5/../videos/v11.mp4: 480x640 4 persons, Done. (0.008s)\n",
      "video 1/1 (232/325) /media/paul/disco5/ANACONDA/LYTICA/YOLOV5S_PERSON_DETECTION/yolov5/../videos/v11.mp4: 480x640 4 persons, Done. (0.007s)\n",
      "video 1/1 (233/325) /media/paul/disco5/ANACONDA/LYTICA/YOLOV5S_PERSON_DETECTION/yolov5/../videos/v11.mp4: 480x640 4 persons, Done. (0.008s)\n",
      "video 1/1 (234/325) /media/paul/disco5/ANACONDA/LYTICA/YOLOV5S_PERSON_DETECTION/yolov5/../videos/v11.mp4: 480x640 4 persons, Done. (0.007s)\n",
      "video 1/1 (235/325) /media/paul/disco5/ANACONDA/LYTICA/YOLOV5S_PERSON_DETECTION/yolov5/../videos/v11.mp4: 480x640 4 persons, Done. (0.008s)\n",
      "video 1/1 (236/325) /media/paul/disco5/ANACONDA/LYTICA/YOLOV5S_PERSON_DETECTION/yolov5/../videos/v11.mp4: 480x640 4 persons, Done. (0.007s)\n",
      "video 1/1 (237/325) /media/paul/disco5/ANACONDA/LYTICA/YOLOV5S_PERSON_DETECTION/yolov5/../videos/v11.mp4: 480x640 4 persons, Done. (0.007s)\n",
      "video 1/1 (238/325) /media/paul/disco5/ANACONDA/LYTICA/YOLOV5S_PERSON_DETECTION/yolov5/../videos/v11.mp4: 480x640 4 persons, Done. (0.007s)\n",
      "video 1/1 (239/325) /media/paul/disco5/ANACONDA/LYTICA/YOLOV5S_PERSON_DETECTION/yolov5/../videos/v11.mp4: 480x640 4 persons, Done. (0.007s)\n",
      "video 1/1 (240/325) /media/paul/disco5/ANACONDA/LYTICA/YOLOV5S_PERSON_DETECTION/yolov5/../videos/v11.mp4: 480x640 3 persons, Done. (0.007s)\n",
      "video 1/1 (241/325) /media/paul/disco5/ANACONDA/LYTICA/YOLOV5S_PERSON_DETECTION/yolov5/../videos/v11.mp4: 480x640 3 persons, Done. (0.008s)\n",
      "video 1/1 (242/325) /media/paul/disco5/ANACONDA/LYTICA/YOLOV5S_PERSON_DETECTION/yolov5/../videos/v11.mp4: 480x640 3 persons, Done. (0.008s)\n",
      "video 1/1 (243/325) /media/paul/disco5/ANACONDA/LYTICA/YOLOV5S_PERSON_DETECTION/yolov5/../videos/v11.mp4: 480x640 3 persons, Done. (0.007s)\n",
      "video 1/1 (244/325) /media/paul/disco5/ANACONDA/LYTICA/YOLOV5S_PERSON_DETECTION/yolov5/../videos/v11.mp4: 480x640 3 persons, Done. (0.007s)\n",
      "video 1/1 (245/325) /media/paul/disco5/ANACONDA/LYTICA/YOLOV5S_PERSON_DETECTION/yolov5/../videos/v11.mp4: 480x640 3 persons, Done. (0.007s)\n",
      "video 1/1 (246/325) /media/paul/disco5/ANACONDA/LYTICA/YOLOV5S_PERSON_DETECTION/yolov5/../videos/v11.mp4: 480x640 3 persons, Done. (0.007s)\n",
      "video 1/1 (247/325) /media/paul/disco5/ANACONDA/LYTICA/YOLOV5S_PERSON_DETECTION/yolov5/../videos/v11.mp4: 480x640 3 persons, Done. (0.008s)\n",
      "video 1/1 (248/325) /media/paul/disco5/ANACONDA/LYTICA/YOLOV5S_PERSON_DETECTION/yolov5/../videos/v11.mp4: 480x640 3 persons, Done. (0.008s)\n",
      "video 1/1 (249/325) /media/paul/disco5/ANACONDA/LYTICA/YOLOV5S_PERSON_DETECTION/yolov5/../videos/v11.mp4: 480x640 3 persons, Done. (0.007s)\n",
      "video 1/1 (250/325) /media/paul/disco5/ANACONDA/LYTICA/YOLOV5S_PERSON_DETECTION/yolov5/../videos/v11.mp4: 480x640 3 persons, Done. (0.008s)\n",
      "video 1/1 (251/325) /media/paul/disco5/ANACONDA/LYTICA/YOLOV5S_PERSON_DETECTION/yolov5/../videos/v11.mp4: 480x640 3 persons, Done. (0.007s)\n",
      "video 1/1 (252/325) /media/paul/disco5/ANACONDA/LYTICA/YOLOV5S_PERSON_DETECTION/yolov5/../videos/v11.mp4: 480x640 3 persons, Done. (0.007s)\n",
      "video 1/1 (253/325) /media/paul/disco5/ANACONDA/LYTICA/YOLOV5S_PERSON_DETECTION/yolov5/../videos/v11.mp4: 480x640 3 persons, Done. (0.007s)\n",
      "video 1/1 (254/325) /media/paul/disco5/ANACONDA/LYTICA/YOLOV5S_PERSON_DETECTION/yolov5/../videos/v11.mp4: 480x640 3 persons, Done. (0.007s)\n",
      "video 1/1 (255/325) /media/paul/disco5/ANACONDA/LYTICA/YOLOV5S_PERSON_DETECTION/yolov5/../videos/v11.mp4: 480x640 3 persons, Done. (0.008s)\n",
      "video 1/1 (256/325) /media/paul/disco5/ANACONDA/LYTICA/YOLOV5S_PERSON_DETECTION/yolov5/../videos/v11.mp4: 480x640 3 persons, Done. (0.007s)\n",
      "video 1/1 (257/325) /media/paul/disco5/ANACONDA/LYTICA/YOLOV5S_PERSON_DETECTION/yolov5/../videos/v11.mp4: 480x640 4 persons, Done. (0.007s)\n",
      "video 1/1 (258/325) /media/paul/disco5/ANACONDA/LYTICA/YOLOV5S_PERSON_DETECTION/yolov5/../videos/v11.mp4: 480x640 4 persons, Done. (0.007s)\n",
      "video 1/1 (259/325) /media/paul/disco5/ANACONDA/LYTICA/YOLOV5S_PERSON_DETECTION/yolov5/../videos/v11.mp4: 480x640 4 persons, Done. (0.007s)\n",
      "video 1/1 (260/325) /media/paul/disco5/ANACONDA/LYTICA/YOLOV5S_PERSON_DETECTION/yolov5/../videos/v11.mp4: 480x640 4 persons, Done. (0.007s)\n",
      "video 1/1 (261/325) /media/paul/disco5/ANACONDA/LYTICA/YOLOV5S_PERSON_DETECTION/yolov5/../videos/v11.mp4: 480x640 4 persons, Done. (0.007s)\n",
      "video 1/1 (262/325) /media/paul/disco5/ANACONDA/LYTICA/YOLOV5S_PERSON_DETECTION/yolov5/../videos/v11.mp4: 480x640 4 persons, Done. (0.007s)\n",
      "video 1/1 (263/325) /media/paul/disco5/ANACONDA/LYTICA/YOLOV5S_PERSON_DETECTION/yolov5/../videos/v11.mp4: 480x640 4 persons, Done. (0.007s)\n",
      "video 1/1 (264/325) /media/paul/disco5/ANACONDA/LYTICA/YOLOV5S_PERSON_DETECTION/yolov5/../videos/v11.mp4: 480x640 4 persons, Done. (0.007s)\n",
      "video 1/1 (265/325) /media/paul/disco5/ANACONDA/LYTICA/YOLOV5S_PERSON_DETECTION/yolov5/../videos/v11.mp4: 480x640 3 persons, Done. (0.007s)\n",
      "video 1/1 (266/325) /media/paul/disco5/ANACONDA/LYTICA/YOLOV5S_PERSON_DETECTION/yolov5/../videos/v11.mp4: 480x640 4 persons, Done. (0.007s)\n",
      "video 1/1 (267/325) /media/paul/disco5/ANACONDA/LYTICA/YOLOV5S_PERSON_DETECTION/yolov5/../videos/v11.mp4: 480x640 4 persons, Done. (0.007s)\n",
      "video 1/1 (268/325) /media/paul/disco5/ANACONDA/LYTICA/YOLOV5S_PERSON_DETECTION/yolov5/../videos/v11.mp4: 480x640 4 persons, Done. (0.007s)\n",
      "video 1/1 (269/325) /media/paul/disco5/ANACONDA/LYTICA/YOLOV5S_PERSON_DETECTION/yolov5/../videos/v11.mp4: 480x640 4 persons, Done. (0.007s)\n",
      "video 1/1 (270/325) /media/paul/disco5/ANACONDA/LYTICA/YOLOV5S_PERSON_DETECTION/yolov5/../videos/v11.mp4: 480x640 4 persons, Done. (0.007s)\n",
      "video 1/1 (271/325) /media/paul/disco5/ANACONDA/LYTICA/YOLOV5S_PERSON_DETECTION/yolov5/../videos/v11.mp4: 480x640 4 persons, Done. (0.007s)\n",
      "video 1/1 (272/325) /media/paul/disco5/ANACONDA/LYTICA/YOLOV5S_PERSON_DETECTION/yolov5/../videos/v11.mp4: 480x640 4 persons, Done. (0.007s)\n",
      "video 1/1 (273/325) /media/paul/disco5/ANACONDA/LYTICA/YOLOV5S_PERSON_DETECTION/yolov5/../videos/v11.mp4: 480x640 4 persons, Done. (0.008s)\n",
      "video 1/1 (274/325) /media/paul/disco5/ANACONDA/LYTICA/YOLOV5S_PERSON_DETECTION/yolov5/../videos/v11.mp4: 480x640 4 persons, Done. (0.007s)\n",
      "video 1/1 (275/325) /media/paul/disco5/ANACONDA/LYTICA/YOLOV5S_PERSON_DETECTION/yolov5/../videos/v11.mp4: 480x640 4 persons, Done. (0.007s)\n",
      "video 1/1 (276/325) /media/paul/disco5/ANACONDA/LYTICA/YOLOV5S_PERSON_DETECTION/yolov5/../videos/v11.mp4: 480x640 4 persons, Done. (0.008s)\n",
      "video 1/1 (277/325) /media/paul/disco5/ANACONDA/LYTICA/YOLOV5S_PERSON_DETECTION/yolov5/../videos/v11.mp4: 480x640 4 persons, Done. (0.007s)\n",
      "video 1/1 (278/325) /media/paul/disco5/ANACONDA/LYTICA/YOLOV5S_PERSON_DETECTION/yolov5/../videos/v11.mp4: 480x640 4 persons, Done. (0.007s)\n",
      "video 1/1 (279/325) /media/paul/disco5/ANACONDA/LYTICA/YOLOV5S_PERSON_DETECTION/yolov5/../videos/v11.mp4: 480x640 4 persons, Done. (0.007s)\n",
      "video 1/1 (280/325) /media/paul/disco5/ANACONDA/LYTICA/YOLOV5S_PERSON_DETECTION/yolov5/../videos/v11.mp4: 480x640 4 persons, Done. (0.008s)\n",
      "video 1/1 (281/325) /media/paul/disco5/ANACONDA/LYTICA/YOLOV5S_PERSON_DETECTION/yolov5/../videos/v11.mp4: 480x640 4 persons, Done. (0.007s)\n",
      "video 1/1 (282/325) /media/paul/disco5/ANACONDA/LYTICA/YOLOV5S_PERSON_DETECTION/yolov5/../videos/v11.mp4: 480x640 4 persons, Done. (0.007s)\n",
      "video 1/1 (283/325) /media/paul/disco5/ANACONDA/LYTICA/YOLOV5S_PERSON_DETECTION/yolov5/../videos/v11.mp4: 480x640 4 persons, Done. (0.008s)\n",
      "video 1/1 (284/325) /media/paul/disco5/ANACONDA/LYTICA/YOLOV5S_PERSON_DETECTION/yolov5/../videos/v11.mp4: 480x640 4 persons, Done. (0.008s)\n",
      "video 1/1 (285/325) /media/paul/disco5/ANACONDA/LYTICA/YOLOV5S_PERSON_DETECTION/yolov5/../videos/v11.mp4: 480x640 4 persons, Done. (0.007s)\n",
      "video 1/1 (286/325) /media/paul/disco5/ANACONDA/LYTICA/YOLOV5S_PERSON_DETECTION/yolov5/../videos/v11.mp4: 480x640 4 persons, Done. (0.008s)\n",
      "video 1/1 (287/325) /media/paul/disco5/ANACONDA/LYTICA/YOLOV5S_PERSON_DETECTION/yolov5/../videos/v11.mp4: 480x640 4 persons, Done. (0.007s)\n",
      "video 1/1 (288/325) /media/paul/disco5/ANACONDA/LYTICA/YOLOV5S_PERSON_DETECTION/yolov5/../videos/v11.mp4: 480x640 4 persons, Done. (0.007s)\n",
      "video 1/1 (289/325) /media/paul/disco5/ANACONDA/LYTICA/YOLOV5S_PERSON_DETECTION/yolov5/../videos/v11.mp4: 480x640 4 persons, Done. (0.007s)\n",
      "video 1/1 (290/325) /media/paul/disco5/ANACONDA/LYTICA/YOLOV5S_PERSON_DETECTION/yolov5/../videos/v11.mp4: 480x640 4 persons, Done. (0.007s)\n",
      "video 1/1 (291/325) /media/paul/disco5/ANACONDA/LYTICA/YOLOV5S_PERSON_DETECTION/yolov5/../videos/v11.mp4: 480x640 4 persons, Done. (0.007s)\n",
      "video 1/1 (292/325) /media/paul/disco5/ANACONDA/LYTICA/YOLOV5S_PERSON_DETECTION/yolov5/../videos/v11.mp4: 480x640 4 persons, Done. (0.008s)\n",
      "video 1/1 (293/325) /media/paul/disco5/ANACONDA/LYTICA/YOLOV5S_PERSON_DETECTION/yolov5/../videos/v11.mp4: 480x640 4 persons, Done. (0.007s)\n",
      "video 1/1 (294/325) /media/paul/disco5/ANACONDA/LYTICA/YOLOV5S_PERSON_DETECTION/yolov5/../videos/v11.mp4: 480x640 4 persons, Done. (0.007s)\n",
      "video 1/1 (295/325) /media/paul/disco5/ANACONDA/LYTICA/YOLOV5S_PERSON_DETECTION/yolov5/../videos/v11.mp4: 480x640 4 persons, Done. (0.007s)\n",
      "video 1/1 (296/325) /media/paul/disco5/ANACONDA/LYTICA/YOLOV5S_PERSON_DETECTION/yolov5/../videos/v11.mp4: 480x640 4 persons, Done. (0.007s)\n",
      "video 1/1 (297/325) /media/paul/disco5/ANACONDA/LYTICA/YOLOV5S_PERSON_DETECTION/yolov5/../videos/v11.mp4: 480x640 4 persons, Done. (0.007s)\n",
      "video 1/1 (298/325) /media/paul/disco5/ANACONDA/LYTICA/YOLOV5S_PERSON_DETECTION/yolov5/../videos/v11.mp4: 480x640 4 persons, Done. (0.008s)\n",
      "video 1/1 (299/325) /media/paul/disco5/ANACONDA/LYTICA/YOLOV5S_PERSON_DETECTION/yolov5/../videos/v11.mp4: 480x640 4 persons, Done. (0.007s)\n",
      "video 1/1 (300/325) /media/paul/disco5/ANACONDA/LYTICA/YOLOV5S_PERSON_DETECTION/yolov5/../videos/v11.mp4: 480x640 4 persons, Done. (0.007s)\n",
      "video 1/1 (301/325) /media/paul/disco5/ANACONDA/LYTICA/YOLOV5S_PERSON_DETECTION/yolov5/../videos/v11.mp4: 480x640 4 persons, Done. (0.007s)\n",
      "video 1/1 (302/325) /media/paul/disco5/ANACONDA/LYTICA/YOLOV5S_PERSON_DETECTION/yolov5/../videos/v11.mp4: 480x640 4 persons, Done. (0.007s)\n",
      "video 1/1 (303/325) /media/paul/disco5/ANACONDA/LYTICA/YOLOV5S_PERSON_DETECTION/yolov5/../videos/v11.mp4: 480x640 4 persons, Done. (0.007s)\n",
      "video 1/1 (304/325) /media/paul/disco5/ANACONDA/LYTICA/YOLOV5S_PERSON_DETECTION/yolov5/../videos/v11.mp4: 480x640 4 persons, Done. (0.007s)\n",
      "video 1/1 (305/325) /media/paul/disco5/ANACONDA/LYTICA/YOLOV5S_PERSON_DETECTION/yolov5/../videos/v11.mp4: 480x640 4 persons, Done. (0.008s)\n",
      "video 1/1 (306/325) /media/paul/disco5/ANACONDA/LYTICA/YOLOV5S_PERSON_DETECTION/yolov5/../videos/v11.mp4: 480x640 4 persons, Done. (0.007s)\n",
      "video 1/1 (307/325) /media/paul/disco5/ANACONDA/LYTICA/YOLOV5S_PERSON_DETECTION/yolov5/../videos/v11.mp4: 480x640 5 persons, Done. (0.007s)\n",
      "video 1/1 (308/325) /media/paul/disco5/ANACONDA/LYTICA/YOLOV5S_PERSON_DETECTION/yolov5/../videos/v11.mp4: 480x640 5 persons, Done. (0.007s)\n",
      "video 1/1 (309/325) /media/paul/disco5/ANACONDA/LYTICA/YOLOV5S_PERSON_DETECTION/yolov5/../videos/v11.mp4: 480x640 5 persons, Done. (0.008s)\n",
      "video 1/1 (310/325) /media/paul/disco5/ANACONDA/LYTICA/YOLOV5S_PERSON_DETECTION/yolov5/../videos/v11.mp4: 480x640 5 persons, Done. (0.008s)\n",
      "video 1/1 (311/325) /media/paul/disco5/ANACONDA/LYTICA/YOLOV5S_PERSON_DETECTION/yolov5/../videos/v11.mp4: 480x640 5 persons, Done. (0.007s)\n",
      "video 1/1 (312/325) /media/paul/disco5/ANACONDA/LYTICA/YOLOV5S_PERSON_DETECTION/yolov5/../videos/v11.mp4: 480x640 5 persons, Done. (0.007s)\n",
      "video 1/1 (313/325) /media/paul/disco5/ANACONDA/LYTICA/YOLOV5S_PERSON_DETECTION/yolov5/../videos/v11.mp4: 480x640 5 persons, Done. (0.007s)\n",
      "video 1/1 (314/325) /media/paul/disco5/ANACONDA/LYTICA/YOLOV5S_PERSON_DETECTION/yolov5/../videos/v11.mp4: 480x640 5 persons, Done. (0.007s)\n",
      "video 1/1 (315/325) /media/paul/disco5/ANACONDA/LYTICA/YOLOV5S_PERSON_DETECTION/yolov5/../videos/v11.mp4: 480x640 5 persons, Done. (0.008s)\n",
      "video 1/1 (316/325) /media/paul/disco5/ANACONDA/LYTICA/YOLOV5S_PERSON_DETECTION/yolov5/../videos/v11.mp4: 480x640 5 persons, Done. (0.007s)\n",
      "video 1/1 (317/325) /media/paul/disco5/ANACONDA/LYTICA/YOLOV5S_PERSON_DETECTION/yolov5/../videos/v11.mp4: 480x640 5 persons, Done. (0.008s)\n",
      "video 1/1 (318/325) /media/paul/disco5/ANACONDA/LYTICA/YOLOV5S_PERSON_DETECTION/yolov5/../videos/v11.mp4: 480x640 5 persons, Done. (0.008s)\n",
      "video 1/1 (319/325) /media/paul/disco5/ANACONDA/LYTICA/YOLOV5S_PERSON_DETECTION/yolov5/../videos/v11.mp4: 480x640 5 persons, Done. (0.007s)\n",
      "video 1/1 (320/325) /media/paul/disco5/ANACONDA/LYTICA/YOLOV5S_PERSON_DETECTION/yolov5/../videos/v11.mp4: 480x640 4 persons, Done. (0.007s)\n",
      "video 1/1 (321/325) /media/paul/disco5/ANACONDA/LYTICA/YOLOV5S_PERSON_DETECTION/yolov5/../videos/v11.mp4: 480x640 3 persons, Done. (0.007s)\n",
      "video 1/1 (322/325) /media/paul/disco5/ANACONDA/LYTICA/YOLOV5S_PERSON_DETECTION/yolov5/../videos/v11.mp4: 480x640 3 persons, Done. (0.008s)\n",
      "video 1/1 (323/325) /media/paul/disco5/ANACONDA/LYTICA/YOLOV5S_PERSON_DETECTION/yolov5/../videos/v11.mp4: 480x640 4 persons, Done. (0.007s)\n",
      "video 1/1 (324/325) /media/paul/disco5/ANACONDA/LYTICA/YOLOV5S_PERSON_DETECTION/yolov5/../videos/v11.mp4: 480x640 3 persons, Done. (0.007s)\n",
      "video 1/1 (325/325) /media/paul/disco5/ANACONDA/LYTICA/YOLOV5S_PERSON_DETECTION/yolov5/../videos/v11.mp4: 480x640 4 persons, Done. (0.007s)\n",
      "Results saved to runs/detect/exp11\n",
      "Done. (3.999s)\n",
      "00:00:08.02\n"
     ]
    }
   ],
   "source": [
    "start = time.time() #tomamos medida del tiempo\n",
    "\n",
    "#!python detect.py --weights runs/train/exp/weights/last.pt --img 640 --conf 0.35 --source ../videos/cam2.png\n",
    "!python detect.py --weights runs/train/exp/weights/last.pt --img 640 --conf 0.35 --source ../videos/v11.mp4\n",
    "#!python detect.py --weights yoloAntiguo.pt --img 640 --conf 0.35 --source ../videos/v11.mp4   \n",
    "end = time.time() #paramos el tiempo\n",
    "hours, rem = divmod(end-start, 3600)\n",
    "minutes, seconds = divmod(rem, 60)\n",
    "print(\"{:0>2}:{:0>2}:{:05.2f}\".format(int(hours),int(minutes),seconds))"
   ]
  },
  {
   "cell_type": "markdown",
   "metadata": {
    "id": "0eq1SMWl6Sfn"
   },
   "source": [
    "# 2. Validate\n",
    "Validate a model's accuracy on [COCO](https://cocodataset.org/#home) val or test-dev datasets. Models are downloaded automatically from the [latest YOLOv5 release](https://github.com/ultralytics/yolov5/releases). To show results by class use the `--verbose` flag. Note that `pycocotools` metrics may be ~1% better than the equivalent repo metrics, as is visible below, due to slight differences in mAP computation."
   ]
  },
  {
   "cell_type": "markdown",
   "metadata": {
    "id": "eyTZYGgRjnMc"
   },
   "source": [
    "## COCO val2017\n",
    "Download [COCO val 2017](https://github.com/ultralytics/yolov5/blob/74b34872fdf41941cddcf243951cdb090fbac17b/data/coco.yaml#L14) dataset (1GB - 5000 images), and test model accuracy."
   ]
  },
  {
   "cell_type": "code",
   "execution_count": null,
   "metadata": {
    "colab": {
     "base_uri": "https://localhost:8080/",
     "height": 66,
     "referenced_widgets": [
      "cef5e9351ca743bcba5febac0b096a30",
      "ec326c52378f4410920c328f221e0514",
      "83000c64a11c4ae8abd6f0ef2f108cef",
      "0f7899eb719f4a9c9852426551f97be9",
      "886ac5b18b3c4c82bf15ad5055f1e17e",
      "4e67b3c3a49849c7a7ba28b7eec96e7a",
      "62c3682ff1804571a483d46664533969",
      "599dda3b608b432393760b2ca4ae7c7d"
     ]
    },
    "id": "WQPtK1QYVaD_",
    "outputId": "56b6402a-81d5-41d0-a3c8-8889db1fca6c"
   },
   "outputs": [
    {
     "data": {
      "application/vnd.jupyter.widget-view+json": {
       "model_id": "cef5e9351ca743bcba5febac0b096a30",
       "version_major": 2,
       "version_minor": 0
      },
      "text/plain": [
       "HBox(children=(FloatProgress(value=0.0, max=819257867.0), HTML(value='')))"
      ]
     },
     "metadata": {
      "tags": []
     },
     "output_type": "display_data"
    },
    {
     "name": "stdout",
     "output_type": "stream",
     "text": [
      "\n"
     ]
    }
   ],
   "source": [
    "# Download COCO val2017\n",
    "torch.hub.download_url_to_file('https://github.com/ultralytics/yolov5/releases/download/v1.0/coco2017val.zip', 'tmp.zip')\n",
    "!unzip -q tmp.zip -d ../datasets && rm tmp.zip"
   ]
  },
  {
   "cell_type": "code",
   "execution_count": null,
   "metadata": {
    "colab": {
     "base_uri": "https://localhost:8080/"
    },
    "id": "X58w8JLpMnjH",
    "outputId": "a5d41761-f1a0-41fe-d0bb-4cceebd7c4a6"
   },
   "outputs": [
    {
     "name": "stdout",
     "output_type": "stream",
     "text": [
      "Namespace(augment=False, batch_size=32, conf_thres=0.001, data='./data/coco.yaml', device='', exist_ok=False, half=True, img_size=640, iou_thres=0.65, name='exp', project='runs/val', save_conf=False, save_hybrid=False, save_json=True, save_txt=False, single_cls=False, task='val', verbose=False, weights=['yolov5x.pt'])\n",
      "YOLOv5 🚀 v5.0-157-gc6b51f4 torch 1.8.1+cu101 CUDA:0 (Tesla V100-SXM2-16GB, 16160.5MB)\n",
      "\n",
      "Downloading https://github.com/ultralytics/yolov5/releases/download/v5.0/yolov5x.pt to yolov5x.pt...\n",
      "100% 168M/168M [00:01<00:00, 156MB/s]\n",
      "\n",
      "Fusing layers... \n",
      "Model Summary: 476 layers, 87730285 parameters, 0 gradients\n",
      "\u001b[34m\u001b[1mval: \u001b[0mScanning '../coco/val2017' images and labels...4952 found, 48 missing, 0 empty, 0 corrupted: 100% 5000/5000 [00:01<00:00, 3008.87it/s]\n",
      "\u001b[34m\u001b[1mval: \u001b[0mNew cache created: ../coco/val2017.cache\n",
      "               Class     Images     Labels          P          R     mAP@.5 mAP@.5:.95: 100% 157/157 [01:17<00:00,  2.02it/s]\n",
      "                 all       5000      36335      0.746      0.626       0.68       0.49\n",
      "Speed: 5.3/1.5/6.8 ms inference/NMS/total per 640x640 image at batch-size 32\n",
      "\n",
      "Evaluating pycocotools mAP... saving runs/val/exp/yolov5x_predictions.json...\n",
      "loading annotations into memory...\n",
      "Done (t=0.44s)\n",
      "creating index...\n",
      "index created!\n",
      "Loading and preparing results...\n",
      "DONE (t=4.88s)\n",
      "creating index...\n",
      "index created!\n",
      "Running per image evaluation...\n",
      "Evaluate annotation type *bbox*\n",
      "DONE (t=83.47s).\n",
      "Accumulating evaluation results...\n",
      "DONE (t=12.96s).\n",
      " Average Precision  (AP) @[ IoU=0.50:0.95 | area=   all | maxDets=100 ] = 0.504\n",
      " Average Precision  (AP) @[ IoU=0.50      | area=   all | maxDets=100 ] = 0.688\n",
      " Average Precision  (AP) @[ IoU=0.75      | area=   all | maxDets=100 ] = 0.546\n",
      " Average Precision  (AP) @[ IoU=0.50:0.95 | area= small | maxDets=100 ] = 0.351\n",
      " Average Precision  (AP) @[ IoU=0.50:0.95 | area=medium | maxDets=100 ] = 0.551\n",
      " Average Precision  (AP) @[ IoU=0.50:0.95 | area= large | maxDets=100 ] = 0.644\n",
      " Average Recall     (AR) @[ IoU=0.50:0.95 | area=   all | maxDets=  1 ] = 0.382\n",
      " Average Recall     (AR) @[ IoU=0.50:0.95 | area=   all | maxDets= 10 ] = 0.629\n",
      " Average Recall     (AR) @[ IoU=0.50:0.95 | area=   all | maxDets=100 ] = 0.681\n",
      " Average Recall     (AR) @[ IoU=0.50:0.95 | area= small | maxDets=100 ] = 0.524\n",
      " Average Recall     (AR) @[ IoU=0.50:0.95 | area=medium | maxDets=100 ] = 0.735\n",
      " Average Recall     (AR) @[ IoU=0.50:0.95 | area= large | maxDets=100 ] = 0.827\n",
      "Results saved to runs/val/exp\n"
     ]
    }
   ],
   "source": [
    "# Run YOLOv5x on COCO val2017\n",
    "!python val.py --weights yolov5x.pt --data coco.yaml --img 640 --iou 0.65 --half"
   ]
  },
  {
   "cell_type": "markdown",
   "metadata": {
    "id": "rc_KbFk0juX2"
   },
   "source": [
    "## COCO test-dev2017\n",
    "Download [COCO test2017](https://github.com/ultralytics/yolov5/blob/74b34872fdf41941cddcf243951cdb090fbac17b/data/coco.yaml#L15) dataset (7GB - 40,000 images), to test model accuracy on test-dev set (**20,000 images, no labels**). Results are saved to a `*.json` file which should be **zipped** and submitted to the evaluation server at https://competitions.codalab.org/competitions/20794."
   ]
  },
  {
   "cell_type": "code",
   "execution_count": null,
   "metadata": {
    "id": "V0AJnSeCIHyJ"
   },
   "outputs": [],
   "source": [
    "# Download COCO test-dev2017\n",
    "torch.hub.download_url_to_file('https://github.com/ultralytics/yolov5/releases/download/v1.0/coco2017labels.zip', 'tmp.zip')\n",
    "!unzip -q tmp.zip -d ../ && rm tmp.zip # unzip labels\n",
    "!f=\"test2017.zip\" && curl http://images.cocodataset.org/zips/$f -o $f && unzip -q $f && rm $f  # 7GB,  41k images\n",
    "%mv ./test2017 ../coco/images  # move to /coco"
   ]
  },
  {
   "cell_type": "code",
   "execution_count": null,
   "metadata": {
    "id": "29GJXAP_lPrt"
   },
   "outputs": [],
   "source": [
    "# Run YOLOv5s on COCO test-dev2017 using --task test\n",
    "!python val.py --weights yolov5s.pt --data coco.yaml --task test"
   ]
  },
  {
   "cell_type": "markdown",
   "metadata": {
    "id": "VUOiNLtMP5aG"
   },
   "source": [
    "# 3. Train\n",
    "\n",
    "Download [COCO128](https://www.kaggle.com/ultralytics/coco128), a small 128-image tutorial dataset, start tensorboard and train YOLOv5s from a pretrained checkpoint for 3 epochs (note actual training is typically much longer, around **300-1000 epochs**, depending on your dataset)."
   ]
  },
  {
   "cell_type": "code",
   "execution_count": null,
   "metadata": {
    "colab": {
     "base_uri": "https://localhost:8080/",
     "height": 66,
     "referenced_widgets": [
      "217ca488c82a4b7a80318b70887a556e",
      "4e63af16f1084ca98a6fa5a282f2a81e",
      "49f4b3c7f6ff42b4b9132a8550e12186",
      "8ec9e1a4883245daaf029458ee09721f",
      "9d3e775ee11e4cf4b587b64fbc3cc6f7",
      "70f68a9a51ac46e6ab7e51fb4fc6bda3",
      "fdb8ab377c114bc3b862ba76eb93cef7",
      "cd267c153c244621a1f50706d2ddc897"
     ]
    },
    "id": "Knxi2ncxWffW",
    "outputId": "9e4788c2-e1d4-4a13-c3d2-984f5df7ffab"
   },
   "outputs": [
    {
     "data": {
      "application/vnd.jupyter.widget-view+json": {
       "model_id": "217ca488c82a4b7a80318b70887a556e",
       "version_major": 2,
       "version_minor": 0
      },
      "text/plain": [
       "HBox(children=(FloatProgress(value=0.0, max=22091032.0), HTML(value='')))"
      ]
     },
     "metadata": {
      "tags": []
     },
     "output_type": "display_data"
    },
    {
     "name": "stdout",
     "output_type": "stream",
     "text": [
      "\n"
     ]
    }
   ],
   "source": [
    "# Download COCO128\n",
    "torch.hub.download_url_to_file('https://github.com/ultralytics/yolov5/releases/download/v1.0/coco128.zip', 'tmp.zip')\n",
    "!unzip -q tmp.zip -d ../ && rm tmp.zip"
   ]
  },
  {
   "cell_type": "markdown",
   "metadata": {
    "id": "_pOkGLv1dMqh"
   },
   "source": [
    "Train a YOLOv5s model on [COCO128](https://www.kaggle.com/ultralytics/coco128) with `--data coco128.yaml`, starting from pretrained `--weights yolov5s.pt`, or from randomly initialized `--weights '' --cfg yolov5s.yaml`. Models are downloaded automatically from the [latest YOLOv5 release](https://github.com/ultralytics/yolov5/releases), and **COCO, COCO128, and VOC datasets are downloaded automatically** on first use.\n",
    "\n",
    "All training results are saved to `runs/train/` with incrementing run directories, i.e. `runs/train/exp2`, `runs/train/exp3` etc.\n"
   ]
  },
  {
   "cell_type": "code",
   "execution_count": null,
   "metadata": {
    "id": "bOy5KI2ncnWd"
   },
   "outputs": [],
   "source": [
    "# Tensorboard  (optional)\n",
    "%load_ext tensorboard\n",
    "%tensorboard --logdir runs/train"
   ]
  },
  {
   "cell_type": "code",
   "execution_count": null,
   "metadata": {
    "id": "2fLAV42oNb7M"
   },
   "outputs": [],
   "source": [
    "# Weights & Biases  (optional)\n",
    "%pip install -q wandb\n",
    "import wandb\n",
    "wandb.login()"
   ]
  },
  {
   "cell_type": "code",
   "execution_count": 2,
   "metadata": {
    "colab": {
     "base_uri": "https://localhost:8080/"
    },
    "id": "1NcFxRcFdJ_O",
    "outputId": "c4dfc591-b6f9-4a60-9149-ee7eff970c90"
   },
   "outputs": [
    {
     "name": "stdout",
     "output_type": "stream",
     "text": [
      "\u001b[34m\u001b[1mtrain: \u001b[0mweights=yolov5s.pt, cfg=, data=custom_data.yaml, hyp=data/hyps/hyp.scratch.yaml, epochs=20, batch_size=16, img_size=[640], rect=False, resume=False, nosave=False, noval=False, noautoanchor=False, evolve=None, bucket=, cache_images=True, image_weights=False, device=, multi_scale=False, single_cls=False, adam=False, sync_bn=False, workers=8, project=runs/train, entity=None, name=exp, exist_ok=False, quad=False, linear_lr=False, label_smoothing=0.0, upload_dataset=False, bbox_interval=-1, save_period=-1, artifact_alias=latest, local_rank=-1\n",
      "\u001b[34m\u001b[1mgithub: \u001b[0mskipping check (offline), for updates see https://github.com/ultralytics/yolov5\n",
      "YOLOv5 🚀 v5.0-290-g62409ee torch 1.8.1 CUDA:0 (GeForce GTX 1660 SUPER, 5941.5MB)\n",
      "\n",
      "\u001b[34m\u001b[1mhyperparameters: \u001b[0mlr0=0.01, lrf=0.2, momentum=0.937, weight_decay=0.0005, warmup_epochs=3.0, warmup_momentum=0.8, warmup_bias_lr=0.1, box=0.05, cls=0.5, cls_pw=1.0, obj=1.0, obj_pw=1.0, iou_t=0.2, anchor_t=4.0, fl_gamma=0.0, hsv_h=0.015, hsv_s=0.7, hsv_v=0.4, degrees=0.0, translate=0.1, scale=0.5, shear=0.0, perspective=0.0, flipud=0.0, fliplr=0.5, mosaic=1.0, mixup=0.0, copy_paste=0.0\n",
      "\u001b[34m\u001b[1mtensorboard: \u001b[0mStart with 'tensorboard --logdir runs/train', view at http://localhost:6006/\n",
      "2021-07-15 12:46:16.249501: W tensorflow/stream_executor/platform/default/dso_loader.cc:59] Could not load dynamic library 'libcudart.so.10.1'; dlerror: libcudart.so.10.1: cannot open shared object file: No such file or directory; LD_LIBRARY_PATH: :/usr/local/cuda-11.1/lib64\n",
      "2021-07-15 12:46:16.249537: I tensorflow/stream_executor/cuda/cudart_stub.cc:29] Ignore above cudart dlerror if you do not have a GPU set up on your machine.\n",
      "\u001b[34m\u001b[1mwandb: \u001b[0mInstall Weights & Biases for YOLOv5 logging with 'pip install wandb' (recommended)\n",
      "Downloading https://github.com/ultralytics/yolov5/releases/download/v5.0/yolov5s.pt to yolov5s.pt...\n",
      "100%|██████████████████████████████████████| 14.1M/14.1M [00:01<00:00, 8.68MB/s]\n",
      "\n",
      "Overriding model.yaml nc=80 with nc=1\n",
      "\n",
      "                 from  n    params  module                                  arguments                     \n",
      "  0                -1  1      3520  models.common.Focus                     [3, 32, 3]                    \n",
      "  1                -1  1     18560  models.common.Conv                      [32, 64, 3, 2]                \n",
      "  2                -1  1     18816  models.common.C3                        [64, 64, 1]                   \n",
      "  3                -1  1     73984  models.common.Conv                      [64, 128, 3, 2]               \n",
      "  4                -1  1    156928  models.common.C3                        [128, 128, 3]                 \n",
      "  5                -1  1    295424  models.common.Conv                      [128, 256, 3, 2]              \n",
      "  6                -1  1    625152  models.common.C3                        [256, 256, 3]                 \n",
      "  7                -1  1   1180672  models.common.Conv                      [256, 512, 3, 2]              \n",
      "  8                -1  1    656896  models.common.SPP                       [512, 512, [5, 9, 13]]        \n",
      "  9                -1  1   1182720  models.common.C3                        [512, 512, 1, False]          \n",
      " 10                -1  1    131584  models.common.Conv                      [512, 256, 1, 1]              \n",
      " 11                -1  1         0  torch.nn.modules.upsampling.Upsample    [None, 2, 'nearest']          \n",
      " 12           [-1, 6]  1         0  models.common.Concat                    [1]                           \n",
      " 13                -1  1    361984  models.common.C3                        [512, 256, 1, False]          \n",
      " 14                -1  1     33024  models.common.Conv                      [256, 128, 1, 1]              \n",
      " 15                -1  1         0  torch.nn.modules.upsampling.Upsample    [None, 2, 'nearest']          \n",
      " 16           [-1, 4]  1         0  models.common.Concat                    [1]                           \n",
      " 17                -1  1     90880  models.common.C3                        [256, 128, 1, False]          \n",
      " 18                -1  1    147712  models.common.Conv                      [128, 128, 3, 2]              \n",
      " 19          [-1, 14]  1         0  models.common.Concat                    [1]                           \n",
      " 20                -1  1    296448  models.common.C3                        [256, 256, 1, False]          \n",
      " 21                -1  1    590336  models.common.Conv                      [256, 256, 3, 2]              \n",
      " 22          [-1, 10]  1         0  models.common.Concat                    [1]                           \n",
      " 23                -1  1   1182720  models.common.C3                        [512, 512, 1, False]          \n",
      " 24      [17, 20, 23]  1     16182  models.yolo.Detect                      [1, [[10, 13, 16, 30, 33, 23], [30, 61, 62, 45, 59, 119], [116, 90, 156, 198, 373, 326]], [128, 256, 512]]\n",
      "Model Summary: 283 layers, 7063542 parameters, 7063542 gradients, 16.4 GFLOPs\n",
      "\n",
      "Transferred 356/362 items from yolov5s.pt\n",
      "Scaled weight_decay = 0.0005\n",
      "Optimizer groups: 62 .bias, 62 conv.weight, 59 other\n",
      "\u001b[34m\u001b[1mtrain: \u001b[0mScanning '../train/labels/train.cache' images and labels... 1491 found, 0\u001b[0m\n",
      "\u001b[34m\u001b[1mtrain: \u001b[0mCaching images (1.4GB): 100%|███████| 1491/1491 [00:02<00:00, 632.07it/s]\u001b[0m\n",
      "\u001b[34m\u001b[1mval: \u001b[0mScanning '../train/labels/val.cache' images and labels... 426 found, 0 miss\u001b[0m\n",
      "\u001b[34m\u001b[1mval: \u001b[0mScanning '../train/labels/val.cache' images and labels... 426 found, 0 miss\u001b[0m\n",
      "\n",
      "\u001b[34m\u001b[1mval: \u001b[0mCaching images (0.0GB):   1%|▏             | 4/426 [00:00<00:12, 33.22it/s]\u001b[0m\u001b[A\n",
      "\u001b[34m\u001b[1mval: \u001b[0mCaching images (0.0GB):   9%|█           | 39/426 [00:00<00:02, 177.28it/s]\u001b[0m\u001b[A\n",
      "\u001b[34m\u001b[1mval: \u001b[0mCaching images (0.1GB):  17%|██          | 71/426 [00:00<00:01, 225.23it/s]\u001b[0m\u001b[A\n",
      "\u001b[34m\u001b[1mval: \u001b[0mCaching images (0.1GB):  22%|██▋         | 94/426 [00:00<00:01, 209.94it/s]\u001b[0m\u001b[A\n",
      "\u001b[34m\u001b[1mval: \u001b[0mCaching images (0.1GB):  29%|███▏       | 122/426 [00:00<00:01, 218.78it/s]\u001b[0m\u001b[A\n",
      "\u001b[34m\u001b[1mval: \u001b[0mCaching images (0.1GB):  35%|███▊       | 147/426 [00:00<00:01, 224.79it/s]\u001b[0m\u001b[A\n",
      "\u001b[34m\u001b[1mval: \u001b[0mCaching images (0.2GB):  40%|████▍      | 170/426 [00:00<00:01, 192.10it/s]\u001b[0m\u001b[A\n",
      "\u001b[34m\u001b[1mval: \u001b[0mCaching images (0.2GB):  45%|████▉      | 193/426 [00:00<00:01, 194.07it/s]\u001b[0m\u001b[A\n",
      "\u001b[34m\u001b[1mval: \u001b[0mCaching images (0.2GB):  50%|█████▌     | 215/426 [00:01<00:01, 167.71it/s]\u001b[0m\u001b[A\n",
      "\u001b[34m\u001b[1mval: \u001b[0mCaching images (0.2GB):  55%|██████     | 235/426 [00:01<00:01, 172.84it/s]\u001b[0m\u001b[A\n",
      "\u001b[34m\u001b[1mval: \u001b[0mCaching images (0.2GB):  61%|██████▋    | 258/426 [00:01<00:00, 170.45it/s]\u001b[0m\u001b[A\n",
      "\u001b[34m\u001b[1mval: \u001b[0mCaching images (0.3GB):  65%|███████▏   | 276/426 [00:01<00:00, 169.93it/s]\u001b[0m\u001b[A\n",
      "\u001b[34m\u001b[1mval: \u001b[0mCaching images (0.3GB):  69%|████████▎   | 294/426 [00:01<00:01, 92.07it/s]\u001b[0m\u001b[A\n",
      "\u001b[34m\u001b[1mval: \u001b[0mCaching images (0.3GB):  82%|█████████  | 351/426 [00:02<00:00, 166.84it/s]\u001b[0m\u001b[A\n",
      "\u001b[34m\u001b[1mval: \u001b[0mCaching images (0.4GB): 100%|███████████| 426/426 [00:02<00:00, 194.39it/s]\u001b[0m\u001b[A\n",
      "Plotting labels... \n",
      "\n",
      "\u001b[34m\u001b[1mautoanchor: \u001b[0mAnalyzing anchors... anchors/target = 5.22, Best Possible Recall (BPR) = 1.0000\n",
      "Image sizes 640 train, 640 val\n",
      "Using 8 dataloader workers\n",
      "Logging results to runs/train/exp\n",
      "Starting training for 20 epochs...\n",
      "\n",
      "     Epoch   gpu_mem       box       obj       cls     total    labels  img_size\n",
      "      0/19     3.35G   0.09791     0.053         0    0.1509        27       640\n",
      "               Class     Images     Labels          P          R     mAP@.5 mAP@\n",
      "                 all        426       1796      0.516      0.543      0.465       0.13\n",
      "\n",
      "     Epoch   gpu_mem       box       obj       cls     total    labels  img_size\n",
      "      1/19      3.8G   0.06406   0.04569         0    0.1098        10       640\n",
      "               Class     Images     Labels          P          R     mAP@.5 mAP@\n",
      "                 all        426       1796       0.71      0.712      0.744      0.279\n",
      "\n",
      "     Epoch   gpu_mem       box       obj       cls     total    labels  img_size\n",
      "      2/19      3.8G   0.05994   0.03469         0   0.09463        15       640\n",
      "               Class     Images     Labels          P          R     mAP@.5 mAP@\n",
      "                 all        426       1796      0.686      0.774      0.749      0.234\n",
      "\n",
      "     Epoch   gpu_mem       box       obj       cls     total    labels  img_size\n",
      "      3/19      3.8G   0.05365   0.03349         0   0.08714        14       640\n",
      "               Class     Images     Labels          P          R     mAP@.5 mAP@\n",
      "                 all        426       1796      0.895      0.831      0.913      0.449\n",
      "\n",
      "     Epoch   gpu_mem       box       obj       cls     total    labels  img_size\n",
      "      4/19      3.8G   0.04835   0.03208         0   0.08043        14       640\n",
      "               Class     Images     Labels          P          R     mAP@.5 mAP@\n",
      "                 all        426       1796      0.881      0.889      0.935      0.458\n",
      "\n",
      "     Epoch   gpu_mem       box       obj       cls     total    labels  img_size\n",
      "      5/19      3.8G   0.05034    0.0307         0   0.08104         9       640\n",
      "               Class     Images     Labels          P          R     mAP@.5 mAP@\n",
      "                 all        426       1796       0.91      0.884      0.943      0.501\n",
      "\n",
      "     Epoch   gpu_mem       box       obj       cls     total    labels  img_size\n",
      "      6/19      3.8G   0.04719   0.03063         0   0.07783        19       640\n",
      "               Class     Images     Labels          P          R     mAP@.5 mAP@\n",
      "                 all        426       1796      0.903      0.885      0.936      0.467\n",
      "\n",
      "     Epoch   gpu_mem       box       obj       cls     total    labels  img_size\n",
      "      7/19      3.8G   0.04287   0.02944         0    0.0723        16       640\n",
      "               Class     Images     Labels          P          R     mAP@.5 mAP@\n",
      "                 all        426       1796        0.9      0.918      0.956      0.534\n",
      "\n",
      "     Epoch   gpu_mem       box       obj       cls     total    labels  img_size\n",
      "      8/19      3.8G   0.04245   0.02924         0   0.07169        23       640\n",
      "               Class     Images     Labels          P          R     mAP@.5 mAP@\n",
      "                 all        426       1796      0.905      0.881      0.946      0.515\n",
      "\n",
      "     Epoch   gpu_mem       box       obj       cls     total    labels  img_size\n",
      "      9/19      3.8G   0.04275   0.02886         0    0.0716        20       640\n",
      "               Class     Images     Labels          P          R     mAP@.5 mAP@\n",
      "                 all        426       1796      0.916      0.918      0.959      0.534\n",
      "\n",
      "     Epoch   gpu_mem       box       obj       cls     total    labels  img_size\n",
      "     10/19      3.8G   0.03959   0.02859         0   0.06818        29       640\n",
      "               Class     Images     Labels          P          R     mAP@.5 mAP@\n",
      "                 all        426       1796      0.918      0.921      0.959       0.56\n",
      "\n",
      "     Epoch   gpu_mem       box       obj       cls     total    labels  img_size\n",
      "     11/19      3.8G   0.03748   0.02784         0   0.06532        36       640\n",
      "               Class     Images     Labels          P          R     mAP@.5 mAP@\n",
      "                 all        426       1796       0.92      0.904      0.951      0.546\n",
      "\n",
      "     Epoch   gpu_mem       box       obj       cls     total    labels  img_size\n",
      "     12/19      3.8G   0.03548   0.02794         0   0.06342        22       640\n",
      "               Class     Images     Labels          P          R     mAP@.5 mAP@\n",
      "                 all        426       1796      0.932      0.913      0.962       0.57\n",
      "\n",
      "     Epoch   gpu_mem       box       obj       cls     total    labels  img_size\n",
      "     13/19      3.8G   0.03363   0.02728         0   0.06091        24       640\n",
      "               Class     Images     Labels          P          R     mAP@.5 mAP@\n",
      "                 all        426       1796      0.931      0.917      0.965      0.579\n",
      "\n",
      "     Epoch   gpu_mem       box       obj       cls     total    labels  img_size\n",
      "     14/19      3.8G   0.03317   0.02606         0   0.05923        13       640\n",
      "               Class     Images     Labels          P          R     mAP@.5 mAP@\n",
      "                 all        426       1796      0.942      0.915      0.965      0.585\n",
      "\n",
      "     Epoch   gpu_mem       box       obj       cls     total    labels  img_size\n",
      "     15/19      3.8G    0.0321   0.02692         0   0.05902        27       640\n",
      "               Class     Images     Labels          P          R     mAP@.5 mAP@\n",
      "                 all        426       1796      0.929       0.93      0.967      0.589\n",
      "\n",
      "     Epoch   gpu_mem       box       obj       cls     total    labels  img_size\n",
      "     16/19      3.8G   0.03148   0.02655         0   0.05804        16       640\n",
      "               Class     Images     Labels          P          R     mAP@.5 mAP@\n",
      "                 all        426       1796      0.941      0.925      0.969        0.6\n",
      "\n",
      "     Epoch   gpu_mem       box       obj       cls     total    labels  img_size\n",
      "     17/19      3.8G    0.0309   0.02544         0   0.05634        16       640\n",
      "               Class     Images     Labels          P          R     mAP@.5 mAP@\n",
      "                 all        426       1796      0.939      0.927      0.967      0.593\n",
      "\n",
      "     Epoch   gpu_mem       box       obj       cls     total    labels  img_size\n",
      "     18/19      3.8G    0.0306    0.0255         0    0.0561        15       640\n",
      "               Class     Images     Labels          P          R     mAP@.5 mAP@\n",
      "                 all        426       1796      0.936      0.926      0.967      0.603\n",
      "\n",
      "     Epoch   gpu_mem       box       obj       cls     total    labels  img_size\n",
      "     19/19      3.8G      0.03   0.02561         0   0.05561        38       640\n",
      "               Class     Images     Labels          P          R     mAP@.5 mAP@\n",
      "                 all        426       1796      0.938      0.938      0.972      0.604\n",
      "20 epochs completed in 1.286 hours.\n",
      "\n",
      "Optimizer stripped from runs/train/exp/weights/last.pt, 14.4MB\n",
      "Optimizer stripped from runs/train/exp/weights/best.pt, 14.4MB\n"
     ]
    }
   ],
   "source": [
    "# Train YOLOv5s on COCO128 for 3 epochs\n",
    "#TOTAL ENTRENAMIENTO  1 HORA Y 20 MIN, BATCH 16, EPOCHS 20\n",
    "!python train.py --img 640 --batch 16 --epochs 20 --data custom_data.yaml --weights yolov5s.pt --cache"
   ]
  },
  {
   "cell_type": "markdown",
   "metadata": {
    "id": "15glLzbQx5u0"
   },
   "source": [
    "# 4. Visualize"
   ]
  },
  {
   "cell_type": "markdown",
   "metadata": {
    "id": "DLI1JmHU7B0l"
   },
   "source": [
    "## Weights & Biases Logging 🌟 NEW\n",
    "\n",
    "[Weights & Biases](https://wandb.ai/site?utm_campaign=repo_yolo_notebook) (W&B) is now integrated with YOLOv5 for real-time visualization and cloud logging of training runs. This allows for better run comparison and introspection, as well improved visibility and collaboration for teams. To enable W&B `pip install wandb`, and then train normally (you will be guided through setup on first use). \n",
    "\n",
    "During training you will see live updates at [https://wandb.ai/home](https://wandb.ai/home?utm_campaign=repo_yolo_notebook), and you can create and share detailed [Reports](https://wandb.ai/glenn-jocher/yolov5_tutorial/reports/YOLOv5-COCO128-Tutorial-Results--VmlldzozMDI5OTY) of your results. For more information see the [YOLOv5 Weights & Biases Tutorial](https://github.com/ultralytics/yolov5/issues/1289). \n",
    "\n",
    "<img src=\"https://user-images.githubusercontent.com/26833433/125274843-a27bc600-e30e-11eb-9a44-62af0b7a50a2.png\" width=\"800\">"
   ]
  },
  {
   "cell_type": "markdown",
   "metadata": {
    "id": "-WPvRbS5Swl6"
   },
   "source": [
    "## Local Logging\n",
    "\n",
    "All results are logged by default to `runs/train`, with a new experiment directory created for each new training as `runs/train/exp2`, `runs/train/exp3`, etc. View train and val jpgs to see mosaics, labels, predictions and augmentation effects. Note a **Mosaic Dataloader** is used for training (shown below), a new concept developed by Ultralytics and first featured in [YOLOv4](https://arxiv.org/abs/2004.10934)."
   ]
  },
  {
   "cell_type": "code",
   "execution_count": null,
   "metadata": {
    "id": "riPdhraOTCO0"
   },
   "outputs": [],
   "source": [
    "Image(filename='runs/train/exp/train_batch0.jpg', width=800)  # train batch 0 mosaics and labels\n",
    "Image(filename='runs/train/exp/test_batch0_labels.jpg', width=800)  # val batch 0 labels\n",
    "Image(filename='runs/train/exp/test_batch0_pred.jpg', width=800)  # val batch 0 predictions"
   ]
  },
  {
   "cell_type": "markdown",
   "metadata": {
    "id": "OYG4WFEnTVrI"
   },
   "source": [
    "> <img src=\"https://user-images.githubusercontent.com/26833433/124931219-48bf8700-e002-11eb-84f0-e05d95b118dd.jpg\" width=\"700\">  \n",
    "`train_batch0.jpg` shows train batch 0 mosaics and labels\n",
    "\n",
    "> <img src=\"https://user-images.githubusercontent.com/26833433/124931217-4826f080-e002-11eb-87b9-ae0925a8c94b.jpg\" width=\"700\">  \n",
    "`test_batch0_labels.jpg` shows val batch 0 labels\n",
    "\n",
    "> <img src=\"https://user-images.githubusercontent.com/26833433/124931209-46f5c380-e002-11eb-9bd5-7a3de2be9851.jpg\" width=\"700\">  \n",
    "`test_batch0_pred.jpg` shows val batch 0 _predictions_"
   ]
  },
  {
   "cell_type": "markdown",
   "metadata": {
    "id": "7KN5ghjE6ZWh"
   },
   "source": [
    "Training results are automatically logged to [Tensorboard](https://www.tensorflow.org/tensorboard) and `runs/train/exp/results.txt`, which is plotted as `results.png` (below) after training completes. You can also plot any `results.txt` file manually:"
   ]
  },
  {
   "cell_type": "code",
   "execution_count": null,
   "metadata": {
    "id": "MDznIqPF7nk3"
   },
   "outputs": [],
   "source": [
    "from utils.plots import plot_results \n",
    "plot_results(save_dir='runs/train/exp')  # plot all results*.txt files in 'runs/train/exp'\n",
    "Image(filename='runs/train/exp/results.png', width=800)"
   ]
  },
  {
   "cell_type": "markdown",
   "metadata": {
    "id": "lfrEegCSW3fK"
   },
   "source": [
    "<p align=\"left\"><img width=\"800\" alt=\"COCO128 Training Results\" src=\"https://user-images.githubusercontent.com/26833433/125273596-6300aa00-e30d-11eb-8dc4-70a960c53013.png\"></p>"
   ]
  },
  {
   "cell_type": "markdown",
   "metadata": {
    "id": "Zelyeqbyt3GD"
   },
   "source": [
    "# Environments\n",
    "\n",
    "YOLOv5 may be run in any of the following up-to-date verified environments (with all dependencies including [CUDA](https://developer.nvidia.com/cuda)/[CUDNN](https://developer.nvidia.com/cudnn), [Python](https://www.python.org/) and [PyTorch](https://pytorch.org/) preinstalled):\n",
    "\n",
    "- **Google Colab and Kaggle** notebooks with free GPU: <a href=\"https://colab.research.google.com/github/ultralytics/yolov5/blob/master/tutorial.ipynb\"><img src=\"https://colab.research.google.com/assets/colab-badge.svg\" alt=\"Open In Colab\"></a> <a href=\"https://www.kaggle.com/ultralytics/yolov5\"><img src=\"https://kaggle.com/static/images/open-in-kaggle.svg\" alt=\"Open In Kaggle\"></a>\n",
    "- **Google Cloud** Deep Learning VM. See [GCP Quickstart Guide](https://github.com/ultralytics/yolov5/wiki/GCP-Quickstart)\n",
    "- **Amazon** Deep Learning AMI. See [AWS Quickstart Guide](https://github.com/ultralytics/yolov5/wiki/AWS-Quickstart)\n",
    "- **Docker Image**. See [Docker Quickstart Guide](https://github.com/ultralytics/yolov5/wiki/Docker-Quickstart) <a href=\"https://hub.docker.com/r/ultralytics/yolov5\"><img src=\"https://img.shields.io/docker/pulls/ultralytics/yolov5?logo=docker\" alt=\"Docker Pulls\"></a>\n"
   ]
  },
  {
   "cell_type": "markdown",
   "metadata": {
    "id": "6Qu7Iesl0p54"
   },
   "source": [
    "# Status\n",
    "\n",
    "![CI CPU testing](https://github.com/ultralytics/yolov5/workflows/CI%20CPU%20testing/badge.svg)\n",
    "\n",
    "If this badge is green, all [YOLOv5 GitHub Actions](https://github.com/ultralytics/yolov5/actions) Continuous Integration (CI) tests are currently passing. CI tests verify correct operation of YOLOv5 training ([train.py](https://github.com/ultralytics/yolov5/blob/master/train.py)), testing ([val.py](https://github.com/ultralytics/yolov5/blob/master/val.py)), inference ([detect.py](https://github.com/ultralytics/yolov5/blob/master/detect.py)) and export ([export.py](https://github.com/ultralytics/yolov5/blob/master/export.py)) on MacOS, Windows, and Ubuntu every 24 hours and on every commit.\n"
   ]
  },
  {
   "cell_type": "markdown",
   "metadata": {
    "id": "IEijrePND_2I"
   },
   "source": [
    "# Appendix\n",
    "\n",
    "Optional extras below. Unit tests validate repo functionality and should be run on any PRs submitted.\n"
   ]
  },
  {
   "cell_type": "code",
   "execution_count": null,
   "metadata": {
    "id": "mcKoSIK2WSzj"
   },
   "outputs": [],
   "source": [
    "# Reproduce\n",
    "for x in 'yolov5s', 'yolov5m', 'yolov5l', 'yolov5x':\n",
    "  !python val.py --weights {x}.pt --data coco.yaml --img 640 --conf 0.25 --iou 0.45  # speed\n",
    "  !python val.py --weights {x}.pt --data coco.yaml --img 640 --conf 0.001 --iou 0.65  # mAP"
   ]
  },
  {
   "cell_type": "code",
   "execution_count": null,
   "metadata": {
    "id": "GMusP4OAxFu6"
   },
   "outputs": [],
   "source": [
    "# PyTorch Hub\n",
    "import torch\n",
    "\n",
    "# Model\n",
    "model = torch.hub.load('ultralytics/yolov5', 'yolov5s')\n",
    "\n",
    "# Images\n",
    "dir = 'https://github.com/ultralytics/yolov5/raw/master/data/images/'\n",
    "imgs = [dir + f for f in ('zidane.jpg', 'bus.jpg')]  # batch of images\n",
    "\n",
    "# Inference\n",
    "results = model(imgs)\n",
    "results.print()  # or .show(), .save()"
   ]
  },
  {
   "cell_type": "code",
   "execution_count": null,
   "metadata": {
    "id": "FGH0ZjkGjejy"
   },
   "outputs": [],
   "source": [
    "# Unit tests\n",
    "%%shell\n",
    "export PYTHONPATH=\"$PWD\"  # to run *.py. files in subdirectories\n",
    "\n",
    "rm -rf runs  # remove runs/\n",
    "for m in yolov5s; do  # models\n",
    "  python train.py --weights $m.pt --epochs 3 --img 320 --device 0  # train pretrained\n",
    "  python train.py --weights '' --cfg $m.yaml --epochs 3 --img 320 --device 0  # train scratch\n",
    "  for d in 0 cpu; do  # devices\n",
    "    python detect.py --weights $m.pt --device $d  # detect official\n",
    "    python detect.py --weights runs/train/exp/weights/best.pt --device $d  # detect custom\n",
    "    python val.py --weights $m.pt --device $d # val official\n",
    "    python val.py --weights runs/train/exp/weights/best.pt --device $d # val custom\n",
    "  done\n",
    "  python hubconf.py  # hub\n",
    "  python models/yolo.py --cfg $m.yaml  # inspect\n",
    "  python export.py --weights $m.pt --img 640 --batch 1  # export\n",
    "done"
   ]
  },
  {
   "cell_type": "code",
   "execution_count": null,
   "metadata": {
    "id": "gogI-kwi3Tye"
   },
   "outputs": [],
   "source": [
    "# Profile\n",
    "from utils.torch_utils import profile \n",
    "\n",
    "m1 = lambda x: x * torch.sigmoid(x)\n",
    "m2 = torch.nn.SiLU()\n",
    "profile(x=torch.randn(16, 3, 640, 640), ops=[m1, m2], n=100)"
   ]
  },
  {
   "cell_type": "code",
   "execution_count": null,
   "metadata": {
    "id": "RVRSOhEvUdb5"
   },
   "outputs": [],
   "source": [
    "# Evolve\n",
    "!python train.py --img 640 --batch 64 --epochs 100 --data coco128.yaml --weights yolov5s.pt --cache --noautoanchor --evolve\n",
    "!d=runs/train/evolve && cp evolve.* $d && zip -r evolve.zip $d && gsutil mv evolve.zip gs://bucket  # upload results (optional)"
   ]
  },
  {
   "cell_type": "code",
   "execution_count": null,
   "metadata": {
    "id": "BSgFCAcMbk1R"
   },
   "outputs": [],
   "source": [
    "# VOC\n",
    "for b, m in zip([64, 48, 32, 16], ['yolov5s', 'yolov5m', 'yolov5l', 'yolov5x']):  # zip(batch_size, model)\n",
    "  !python train.py --batch {b} --weights {m}.pt --data VOC.yaml --epochs 50 --cache --img 512 --nosave --hyp hyp.finetune.yaml --project VOC --name {m}"
   ]
  }
 ],
 "metadata": {
  "accelerator": "GPU",
  "colab": {
   "collapsed_sections": [],
   "name": "YOLOv5 Tutorial",
   "provenance": [],
   "toc_visible": true
  },
  "kernelspec": {
   "display_name": "Python 3",
   "language": "python",
   "name": "python3"
  },
  "language_info": {
   "codemirror_mode": {
    "name": "ipython",
    "version": 3
   },
   "file_extension": ".py",
   "mimetype": "text/x-python",
   "name": "python",
   "nbconvert_exporter": "python",
   "pygments_lexer": "ipython3",
   "version": "3.8.10"
  },
  "widgets": {
   "application/vnd.jupyter.widget-state+json": {
    "0f7899eb719f4a9c9852426551f97be9": {
     "model_module": "@jupyter-widgets/controls",
     "model_name": "HTMLModel",
     "state": {
      "_dom_classes": [],
      "_model_module": "@jupyter-widgets/controls",
      "_model_module_version": "1.5.0",
      "_model_name": "HTMLModel",
      "_view_count": null,
      "_view_module": "@jupyter-widgets/controls",
      "_view_module_version": "1.5.0",
      "_view_name": "HTMLView",
      "description": "",
      "description_tooltip": null,
      "layout": "IPY_MODEL_599dda3b608b432393760b2ca4ae7c7d",
      "placeholder": "​",
      "style": "IPY_MODEL_62c3682ff1804571a483d46664533969",
      "value": " 781M/781M [00:12&lt;00:00, 67.1MB/s]"
     }
    },
    "217ca488c82a4b7a80318b70887a556e": {
     "model_module": "@jupyter-widgets/controls",
     "model_name": "HBoxModel",
     "state": {
      "_dom_classes": [],
      "_model_module": "@jupyter-widgets/controls",
      "_model_module_version": "1.5.0",
      "_model_name": "HBoxModel",
      "_view_count": null,
      "_view_module": "@jupyter-widgets/controls",
      "_view_module_version": "1.5.0",
      "_view_name": "HBoxView",
      "box_style": "",
      "children": [
       "IPY_MODEL_49f4b3c7f6ff42b4b9132a8550e12186",
       "IPY_MODEL_8ec9e1a4883245daaf029458ee09721f"
      ],
      "layout": "IPY_MODEL_4e63af16f1084ca98a6fa5a282f2a81e"
     }
    },
    "49f4b3c7f6ff42b4b9132a8550e12186": {
     "model_module": "@jupyter-widgets/controls",
     "model_name": "FloatProgressModel",
     "state": {
      "_dom_classes": [],
      "_model_module": "@jupyter-widgets/controls",
      "_model_module_version": "1.5.0",
      "_model_name": "FloatProgressModel",
      "_view_count": null,
      "_view_module": "@jupyter-widgets/controls",
      "_view_module_version": "1.5.0",
      "_view_name": "ProgressView",
      "bar_style": "success",
      "description": "100%",
      "description_tooltip": null,
      "layout": "IPY_MODEL_70f68a9a51ac46e6ab7e51fb4fc6bda3",
      "max": 22091032,
      "min": 0,
      "orientation": "horizontal",
      "style": "IPY_MODEL_9d3e775ee11e4cf4b587b64fbc3cc6f7",
      "value": 22091032
     }
    },
    "4e63af16f1084ca98a6fa5a282f2a81e": {
     "model_module": "@jupyter-widgets/base",
     "model_name": "LayoutModel",
     "state": {
      "_model_module": "@jupyter-widgets/base",
      "_model_module_version": "1.2.0",
      "_model_name": "LayoutModel",
      "_view_count": null,
      "_view_module": "@jupyter-widgets/base",
      "_view_module_version": "1.2.0",
      "_view_name": "LayoutView",
      "align_content": null,
      "align_items": null,
      "align_self": null,
      "border": null,
      "bottom": null,
      "display": null,
      "flex": null,
      "flex_flow": null,
      "grid_area": null,
      "grid_auto_columns": null,
      "grid_auto_flow": null,
      "grid_auto_rows": null,
      "grid_column": null,
      "grid_gap": null,
      "grid_row": null,
      "grid_template_areas": null,
      "grid_template_columns": null,
      "grid_template_rows": null,
      "height": null,
      "justify_content": null,
      "justify_items": null,
      "left": null,
      "margin": null,
      "max_height": null,
      "max_width": null,
      "min_height": null,
      "min_width": null,
      "object_fit": null,
      "object_position": null,
      "order": null,
      "overflow": null,
      "overflow_x": null,
      "overflow_y": null,
      "padding": null,
      "right": null,
      "top": null,
      "visibility": null,
      "width": null
     }
    },
    "4e67b3c3a49849c7a7ba28b7eec96e7a": {
     "model_module": "@jupyter-widgets/base",
     "model_name": "LayoutModel",
     "state": {
      "_model_module": "@jupyter-widgets/base",
      "_model_module_version": "1.2.0",
      "_model_name": "LayoutModel",
      "_view_count": null,
      "_view_module": "@jupyter-widgets/base",
      "_view_module_version": "1.2.0",
      "_view_name": "LayoutView",
      "align_content": null,
      "align_items": null,
      "align_self": null,
      "border": null,
      "bottom": null,
      "display": null,
      "flex": null,
      "flex_flow": null,
      "grid_area": null,
      "grid_auto_columns": null,
      "grid_auto_flow": null,
      "grid_auto_rows": null,
      "grid_column": null,
      "grid_gap": null,
      "grid_row": null,
      "grid_template_areas": null,
      "grid_template_columns": null,
      "grid_template_rows": null,
      "height": null,
      "justify_content": null,
      "justify_items": null,
      "left": null,
      "margin": null,
      "max_height": null,
      "max_width": null,
      "min_height": null,
      "min_width": null,
      "object_fit": null,
      "object_position": null,
      "order": null,
      "overflow": null,
      "overflow_x": null,
      "overflow_y": null,
      "padding": null,
      "right": null,
      "top": null,
      "visibility": null,
      "width": null
     }
    },
    "599dda3b608b432393760b2ca4ae7c7d": {
     "model_module": "@jupyter-widgets/base",
     "model_name": "LayoutModel",
     "state": {
      "_model_module": "@jupyter-widgets/base",
      "_model_module_version": "1.2.0",
      "_model_name": "LayoutModel",
      "_view_count": null,
      "_view_module": "@jupyter-widgets/base",
      "_view_module_version": "1.2.0",
      "_view_name": "LayoutView",
      "align_content": null,
      "align_items": null,
      "align_self": null,
      "border": null,
      "bottom": null,
      "display": null,
      "flex": null,
      "flex_flow": null,
      "grid_area": null,
      "grid_auto_columns": null,
      "grid_auto_flow": null,
      "grid_auto_rows": null,
      "grid_column": null,
      "grid_gap": null,
      "grid_row": null,
      "grid_template_areas": null,
      "grid_template_columns": null,
      "grid_template_rows": null,
      "height": null,
      "justify_content": null,
      "justify_items": null,
      "left": null,
      "margin": null,
      "max_height": null,
      "max_width": null,
      "min_height": null,
      "min_width": null,
      "object_fit": null,
      "object_position": null,
      "order": null,
      "overflow": null,
      "overflow_x": null,
      "overflow_y": null,
      "padding": null,
      "right": null,
      "top": null,
      "visibility": null,
      "width": null
     }
    },
    "62c3682ff1804571a483d46664533969": {
     "model_module": "@jupyter-widgets/controls",
     "model_name": "DescriptionStyleModel",
     "state": {
      "_model_module": "@jupyter-widgets/controls",
      "_model_module_version": "1.5.0",
      "_model_name": "DescriptionStyleModel",
      "_view_count": null,
      "_view_module": "@jupyter-widgets/base",
      "_view_module_version": "1.2.0",
      "_view_name": "StyleView",
      "description_width": ""
     }
    },
    "70f68a9a51ac46e6ab7e51fb4fc6bda3": {
     "model_module": "@jupyter-widgets/base",
     "model_name": "LayoutModel",
     "state": {
      "_model_module": "@jupyter-widgets/base",
      "_model_module_version": "1.2.0",
      "_model_name": "LayoutModel",
      "_view_count": null,
      "_view_module": "@jupyter-widgets/base",
      "_view_module_version": "1.2.0",
      "_view_name": "LayoutView",
      "align_content": null,
      "align_items": null,
      "align_self": null,
      "border": null,
      "bottom": null,
      "display": null,
      "flex": null,
      "flex_flow": null,
      "grid_area": null,
      "grid_auto_columns": null,
      "grid_auto_flow": null,
      "grid_auto_rows": null,
      "grid_column": null,
      "grid_gap": null,
      "grid_row": null,
      "grid_template_areas": null,
      "grid_template_columns": null,
      "grid_template_rows": null,
      "height": null,
      "justify_content": null,
      "justify_items": null,
      "left": null,
      "margin": null,
      "max_height": null,
      "max_width": null,
      "min_height": null,
      "min_width": null,
      "object_fit": null,
      "object_position": null,
      "order": null,
      "overflow": null,
      "overflow_x": null,
      "overflow_y": null,
      "padding": null,
      "right": null,
      "top": null,
      "visibility": null,
      "width": null
     }
    },
    "83000c64a11c4ae8abd6f0ef2f108cef": {
     "model_module": "@jupyter-widgets/controls",
     "model_name": "FloatProgressModel",
     "state": {
      "_dom_classes": [],
      "_model_module": "@jupyter-widgets/controls",
      "_model_module_version": "1.5.0",
      "_model_name": "FloatProgressModel",
      "_view_count": null,
      "_view_module": "@jupyter-widgets/controls",
      "_view_module_version": "1.5.0",
      "_view_name": "ProgressView",
      "bar_style": "success",
      "description": "100%",
      "description_tooltip": null,
      "layout": "IPY_MODEL_4e67b3c3a49849c7a7ba28b7eec96e7a",
      "max": 819257867,
      "min": 0,
      "orientation": "horizontal",
      "style": "IPY_MODEL_886ac5b18b3c4c82bf15ad5055f1e17e",
      "value": 819257867
     }
    },
    "886ac5b18b3c4c82bf15ad5055f1e17e": {
     "model_module": "@jupyter-widgets/controls",
     "model_name": "ProgressStyleModel",
     "state": {
      "_model_module": "@jupyter-widgets/controls",
      "_model_module_version": "1.5.0",
      "_model_name": "ProgressStyleModel",
      "_view_count": null,
      "_view_module": "@jupyter-widgets/base",
      "_view_module_version": "1.2.0",
      "_view_name": "StyleView",
      "bar_color": null,
      "description_width": "initial"
     }
    },
    "8ec9e1a4883245daaf029458ee09721f": {
     "model_module": "@jupyter-widgets/controls",
     "model_name": "HTMLModel",
     "state": {
      "_dom_classes": [],
      "_model_module": "@jupyter-widgets/controls",
      "_model_module_version": "1.5.0",
      "_model_name": "HTMLModel",
      "_view_count": null,
      "_view_module": "@jupyter-widgets/controls",
      "_view_module_version": "1.5.0",
      "_view_name": "HTMLView",
      "description": "",
      "description_tooltip": null,
      "layout": "IPY_MODEL_cd267c153c244621a1f50706d2ddc897",
      "placeholder": "​",
      "style": "IPY_MODEL_fdb8ab377c114bc3b862ba76eb93cef7",
      "value": " 21.1M/21.1M [00:36&lt;00:00, 605kB/s]"
     }
    },
    "9d3e775ee11e4cf4b587b64fbc3cc6f7": {
     "model_module": "@jupyter-widgets/controls",
     "model_name": "ProgressStyleModel",
     "state": {
      "_model_module": "@jupyter-widgets/controls",
      "_model_module_version": "1.5.0",
      "_model_name": "ProgressStyleModel",
      "_view_count": null,
      "_view_module": "@jupyter-widgets/base",
      "_view_module_version": "1.2.0",
      "_view_name": "StyleView",
      "bar_color": null,
      "description_width": "initial"
     }
    },
    "cd267c153c244621a1f50706d2ddc897": {
     "model_module": "@jupyter-widgets/base",
     "model_name": "LayoutModel",
     "state": {
      "_model_module": "@jupyter-widgets/base",
      "_model_module_version": "1.2.0",
      "_model_name": "LayoutModel",
      "_view_count": null,
      "_view_module": "@jupyter-widgets/base",
      "_view_module_version": "1.2.0",
      "_view_name": "LayoutView",
      "align_content": null,
      "align_items": null,
      "align_self": null,
      "border": null,
      "bottom": null,
      "display": null,
      "flex": null,
      "flex_flow": null,
      "grid_area": null,
      "grid_auto_columns": null,
      "grid_auto_flow": null,
      "grid_auto_rows": null,
      "grid_column": null,
      "grid_gap": null,
      "grid_row": null,
      "grid_template_areas": null,
      "grid_template_columns": null,
      "grid_template_rows": null,
      "height": null,
      "justify_content": null,
      "justify_items": null,
      "left": null,
      "margin": null,
      "max_height": null,
      "max_width": null,
      "min_height": null,
      "min_width": null,
      "object_fit": null,
      "object_position": null,
      "order": null,
      "overflow": null,
      "overflow_x": null,
      "overflow_y": null,
      "padding": null,
      "right": null,
      "top": null,
      "visibility": null,
      "width": null
     }
    },
    "cef5e9351ca743bcba5febac0b096a30": {
     "model_module": "@jupyter-widgets/controls",
     "model_name": "HBoxModel",
     "state": {
      "_dom_classes": [],
      "_model_module": "@jupyter-widgets/controls",
      "_model_module_version": "1.5.0",
      "_model_name": "HBoxModel",
      "_view_count": null,
      "_view_module": "@jupyter-widgets/controls",
      "_view_module_version": "1.5.0",
      "_view_name": "HBoxView",
      "box_style": "",
      "children": [
       "IPY_MODEL_83000c64a11c4ae8abd6f0ef2f108cef",
       "IPY_MODEL_0f7899eb719f4a9c9852426551f97be9"
      ],
      "layout": "IPY_MODEL_ec326c52378f4410920c328f221e0514"
     }
    },
    "ec326c52378f4410920c328f221e0514": {
     "model_module": "@jupyter-widgets/base",
     "model_name": "LayoutModel",
     "state": {
      "_model_module": "@jupyter-widgets/base",
      "_model_module_version": "1.2.0",
      "_model_name": "LayoutModel",
      "_view_count": null,
      "_view_module": "@jupyter-widgets/base",
      "_view_module_version": "1.2.0",
      "_view_name": "LayoutView",
      "align_content": null,
      "align_items": null,
      "align_self": null,
      "border": null,
      "bottom": null,
      "display": null,
      "flex": null,
      "flex_flow": null,
      "grid_area": null,
      "grid_auto_columns": null,
      "grid_auto_flow": null,
      "grid_auto_rows": null,
      "grid_column": null,
      "grid_gap": null,
      "grid_row": null,
      "grid_template_areas": null,
      "grid_template_columns": null,
      "grid_template_rows": null,
      "height": null,
      "justify_content": null,
      "justify_items": null,
      "left": null,
      "margin": null,
      "max_height": null,
      "max_width": null,
      "min_height": null,
      "min_width": null,
      "object_fit": null,
      "object_position": null,
      "order": null,
      "overflow": null,
      "overflow_x": null,
      "overflow_y": null,
      "padding": null,
      "right": null,
      "top": null,
      "visibility": null,
      "width": null
     }
    },
    "fdb8ab377c114bc3b862ba76eb93cef7": {
     "model_module": "@jupyter-widgets/controls",
     "model_name": "DescriptionStyleModel",
     "state": {
      "_model_module": "@jupyter-widgets/controls",
      "_model_module_version": "1.5.0",
      "_model_name": "DescriptionStyleModel",
      "_view_count": null,
      "_view_module": "@jupyter-widgets/base",
      "_view_module_version": "1.2.0",
      "_view_name": "StyleView",
      "description_width": ""
     }
    }
   }
  }
 },
 "nbformat": 4,
 "nbformat_minor": 4
}
